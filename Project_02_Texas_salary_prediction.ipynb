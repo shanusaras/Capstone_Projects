{
  "cells": [
    {
      "cell_type": "markdown",
      "metadata": {
        "id": "VyFBjpqj2C5V"
      },
      "source": [
        "#<h1 align = 'center'>TEAM ID:  PTID-CDS-JAN-24-1772\n",
        "<h1 align= 'center'>PROJECT ID: PRCP-1024-TexasSalaryPred"
      ]
    },
    {
      "cell_type": "markdown",
      "metadata": {
        "id": "1APoOFQk2C5W"
      },
      "source": [
        "### **PROBLEM STATEMENT**\n",
        "\n",
        "Task 1:-Prepare a complete data analysis report on the given data.\n",
        "\n",
        "Task 2:-Create a predictive model which will help the Texas state government team to know the payroll information of employees of the state of Texas.\n",
        "\n",
        "Task 3:-\n",
        "<ul type= 'disc'>\n",
        "<li>Who are the outliers in the salaries?</li>\n",
        "<li>What departments/roles have the biggest wage disparities between managers and employees?</li>\n",
        "<li>Have salaries and total compensations for some roles/ departments/ head-count changed over time</li>\n",
        "</ul>"
      ]
    },
    {
      "cell_type": "markdown",
      "metadata": {
        "id": "I4DwiGfL2C5W"
      },
      "source": [
        "### **IMPORTING THE BASIC LIBRARIES**"
      ]
    },
    {
      "cell_type": "code",
      "execution_count": 2,
      "metadata": {
        "id": "3JGYaCSm2C5X"
      },
      "outputs": [],
      "source": [
        "import numpy as np\n",
        "import pandas as pd\n",
        "import matplotlib.pyplot as plt\n",
        "import seaborn as sns\n",
        "import warnings\n",
        "warnings.filterwarnings(\"ignore\")"
      ]
    },
    {
      "cell_type": "markdown",
      "metadata": {
        "id": "v5_G3bmY2C5X"
      },
      "source": [
        "### **IMPORTING THE DATASET**"
      ]
    },
    {
      "cell_type": "code",
      "execution_count": 4,
      "metadata": {
        "id": "n8h3UKIP2C5X",
        "outputId": "3f146efd-c1bd-4e4f-a6f9-eea63c44e8e8",
        "colab": {
          "base_uri": "https://localhost:8080/",
          "height": 556
        }
      },
      "outputs": [
        {
          "output_type": "execute_result",
          "data": {
            "text/plain": [
              "   AGENCY                                        AGENCY NAME  \\\n",
              "0     241  COMPTROLLER OF PUBLIC ACCOUNTS, JUDICIARY SECT...   \n",
              "1     212  OFFICE OF COURT ADMINISTRATION                ...   \n",
              "2     241  COMPTROLLER OF PUBLIC ACCOUNTS, JUDICIARY SECT...   \n",
              "3     212  OFFICE OF COURT ADMINISTRATION                ...   \n",
              "4     696  TEXAS DEPARTMENT OF CRIMINAL JUSTICE          ...   \n",
              "\n",
              "                        LAST NAME                      FIRST NAME MI  \\\n",
              "0  RUCKER                          MORTON                          V   \n",
              "1  RUCKER                          MORTON                          V   \n",
              "2  SPECIA JR                       JOHN                            J   \n",
              "3  SPECIA JR                       JOHN                            J   \n",
              "4  ONTIVEROS                       ESTHER                              \n",
              "\n",
              "  CLASS CODE                                        CLASS TITLE  \\\n",
              "0   JD25      JUDGE, RETIRED                                ...   \n",
              "1   3524      GENERAL COUNSEL IV                            ...   \n",
              "2   JD25      JUDGE, RETIRED                                ...   \n",
              "3   3524      GENERAL COUNSEL IV                            ...   \n",
              "4   4504      CORREC  OFFICER IV                            ...   \n",
              "\n",
              "         ETHNICITY           GENDER                                    STATUS  \\\n",
              "0  WHITE            MALE             URP - UNCLASSIFIED REGULAR PART-TIME       \n",
              "1  WHITE            MALE             CTP - CLASSIFIED TEMPORARY PART-TIME       \n",
              "2  WHITE            MALE             URP - UNCLASSIFIED REGULAR PART-TIME       \n",
              "3  WHITE            MALE             CTP - CLASSIFIED TEMPORARY PART-TIME       \n",
              "4  HISPANIC         FEMALE           CRF - CLASSIFIED REGULAR FULL-TIME         \n",
              "\n",
              "  EMPLOY DATE  HRLY RATE  HRS PER WK  MONTHLY     ANNUAL  STATE NUMBER  \\\n",
              "0    02/18/88   75.96150        29.0  9545.82  114549.84      127717.0   \n",
              "1    02/01/15   81.04454         4.0  1404.77   16857.24      127717.0   \n",
              "2    02/01/20   75.96150        29.0  9545.82  114549.84       59115.0   \n",
              "3    09/01/18   81.04453         4.0  1404.77   16857.24       59115.0   \n",
              "4    06/29/20    0.00000        40.0  3284.27   39411.24      165030.0   \n",
              "\n",
              "  duplicated  multiple_full_time_jobs combined_multiple_jobs  \\\n",
              "0       True                      NaN                    NaN   \n",
              "1       True                      NaN                    NaN   \n",
              "2       True                      NaN                    NaN   \n",
              "3       True                      NaN                    NaN   \n",
              "4       True                      1.0                    NaN   \n",
              "\n",
              "   summed_annual_salary hide_from_search  \n",
              "0             131407.08              NaN  \n",
              "1                   NaN             True  \n",
              "2             131407.08              NaN  \n",
              "3                   NaN             True  \n",
              "4                   NaN              NaN  "
            ],
            "text/html": [
              "\n",
              "  <div id=\"df-6cfb6a6c-e4cd-4e26-9441-3e6075843cea\" class=\"colab-df-container\">\n",
              "    <div>\n",
              "<style scoped>\n",
              "    .dataframe tbody tr th:only-of-type {\n",
              "        vertical-align: middle;\n",
              "    }\n",
              "\n",
              "    .dataframe tbody tr th {\n",
              "        vertical-align: top;\n",
              "    }\n",
              "\n",
              "    .dataframe thead th {\n",
              "        text-align: right;\n",
              "    }\n",
              "</style>\n",
              "<table border=\"1\" class=\"dataframe\">\n",
              "  <thead>\n",
              "    <tr style=\"text-align: right;\">\n",
              "      <th></th>\n",
              "      <th>AGENCY</th>\n",
              "      <th>AGENCY NAME</th>\n",
              "      <th>LAST NAME</th>\n",
              "      <th>FIRST NAME</th>\n",
              "      <th>MI</th>\n",
              "      <th>CLASS CODE</th>\n",
              "      <th>CLASS TITLE</th>\n",
              "      <th>ETHNICITY</th>\n",
              "      <th>GENDER</th>\n",
              "      <th>STATUS</th>\n",
              "      <th>EMPLOY DATE</th>\n",
              "      <th>HRLY RATE</th>\n",
              "      <th>HRS PER WK</th>\n",
              "      <th>MONTHLY</th>\n",
              "      <th>ANNUAL</th>\n",
              "      <th>STATE NUMBER</th>\n",
              "      <th>duplicated</th>\n",
              "      <th>multiple_full_time_jobs</th>\n",
              "      <th>combined_multiple_jobs</th>\n",
              "      <th>summed_annual_salary</th>\n",
              "      <th>hide_from_search</th>\n",
              "    </tr>\n",
              "  </thead>\n",
              "  <tbody>\n",
              "    <tr>\n",
              "      <th>0</th>\n",
              "      <td>241</td>\n",
              "      <td>COMPTROLLER OF PUBLIC ACCOUNTS, JUDICIARY SECT...</td>\n",
              "      <td>RUCKER</td>\n",
              "      <td>MORTON</td>\n",
              "      <td>V</td>\n",
              "      <td>JD25</td>\n",
              "      <td>JUDGE, RETIRED                                ...</td>\n",
              "      <td>WHITE</td>\n",
              "      <td>MALE</td>\n",
              "      <td>URP - UNCLASSIFIED REGULAR PART-TIME</td>\n",
              "      <td>02/18/88</td>\n",
              "      <td>75.96150</td>\n",
              "      <td>29.0</td>\n",
              "      <td>9545.82</td>\n",
              "      <td>114549.84</td>\n",
              "      <td>127717.0</td>\n",
              "      <td>True</td>\n",
              "      <td>NaN</td>\n",
              "      <td>NaN</td>\n",
              "      <td>131407.08</td>\n",
              "      <td>NaN</td>\n",
              "    </tr>\n",
              "    <tr>\n",
              "      <th>1</th>\n",
              "      <td>212</td>\n",
              "      <td>OFFICE OF COURT ADMINISTRATION                ...</td>\n",
              "      <td>RUCKER</td>\n",
              "      <td>MORTON</td>\n",
              "      <td>V</td>\n",
              "      <td>3524</td>\n",
              "      <td>GENERAL COUNSEL IV                            ...</td>\n",
              "      <td>WHITE</td>\n",
              "      <td>MALE</td>\n",
              "      <td>CTP - CLASSIFIED TEMPORARY PART-TIME</td>\n",
              "      <td>02/01/15</td>\n",
              "      <td>81.04454</td>\n",
              "      <td>4.0</td>\n",
              "      <td>1404.77</td>\n",
              "      <td>16857.24</td>\n",
              "      <td>127717.0</td>\n",
              "      <td>True</td>\n",
              "      <td>NaN</td>\n",
              "      <td>NaN</td>\n",
              "      <td>NaN</td>\n",
              "      <td>True</td>\n",
              "    </tr>\n",
              "    <tr>\n",
              "      <th>2</th>\n",
              "      <td>241</td>\n",
              "      <td>COMPTROLLER OF PUBLIC ACCOUNTS, JUDICIARY SECT...</td>\n",
              "      <td>SPECIA JR</td>\n",
              "      <td>JOHN</td>\n",
              "      <td>J</td>\n",
              "      <td>JD25</td>\n",
              "      <td>JUDGE, RETIRED                                ...</td>\n",
              "      <td>WHITE</td>\n",
              "      <td>MALE</td>\n",
              "      <td>URP - UNCLASSIFIED REGULAR PART-TIME</td>\n",
              "      <td>02/01/20</td>\n",
              "      <td>75.96150</td>\n",
              "      <td>29.0</td>\n",
              "      <td>9545.82</td>\n",
              "      <td>114549.84</td>\n",
              "      <td>59115.0</td>\n",
              "      <td>True</td>\n",
              "      <td>NaN</td>\n",
              "      <td>NaN</td>\n",
              "      <td>131407.08</td>\n",
              "      <td>NaN</td>\n",
              "    </tr>\n",
              "    <tr>\n",
              "      <th>3</th>\n",
              "      <td>212</td>\n",
              "      <td>OFFICE OF COURT ADMINISTRATION                ...</td>\n",
              "      <td>SPECIA JR</td>\n",
              "      <td>JOHN</td>\n",
              "      <td>J</td>\n",
              "      <td>3524</td>\n",
              "      <td>GENERAL COUNSEL IV                            ...</td>\n",
              "      <td>WHITE</td>\n",
              "      <td>MALE</td>\n",
              "      <td>CTP - CLASSIFIED TEMPORARY PART-TIME</td>\n",
              "      <td>09/01/18</td>\n",
              "      <td>81.04453</td>\n",
              "      <td>4.0</td>\n",
              "      <td>1404.77</td>\n",
              "      <td>16857.24</td>\n",
              "      <td>59115.0</td>\n",
              "      <td>True</td>\n",
              "      <td>NaN</td>\n",
              "      <td>NaN</td>\n",
              "      <td>NaN</td>\n",
              "      <td>True</td>\n",
              "    </tr>\n",
              "    <tr>\n",
              "      <th>4</th>\n",
              "      <td>696</td>\n",
              "      <td>TEXAS DEPARTMENT OF CRIMINAL JUSTICE          ...</td>\n",
              "      <td>ONTIVEROS</td>\n",
              "      <td>ESTHER</td>\n",
              "      <td></td>\n",
              "      <td>4504</td>\n",
              "      <td>CORREC  OFFICER IV                            ...</td>\n",
              "      <td>HISPANIC</td>\n",
              "      <td>FEMALE</td>\n",
              "      <td>CRF - CLASSIFIED REGULAR FULL-TIME</td>\n",
              "      <td>06/29/20</td>\n",
              "      <td>0.00000</td>\n",
              "      <td>40.0</td>\n",
              "      <td>3284.27</td>\n",
              "      <td>39411.24</td>\n",
              "      <td>165030.0</td>\n",
              "      <td>True</td>\n",
              "      <td>1.0</td>\n",
              "      <td>NaN</td>\n",
              "      <td>NaN</td>\n",
              "      <td>NaN</td>\n",
              "    </tr>\n",
              "  </tbody>\n",
              "</table>\n",
              "</div>\n",
              "    <div class=\"colab-df-buttons\">\n",
              "\n",
              "  <div class=\"colab-df-container\">\n",
              "    <button class=\"colab-df-convert\" onclick=\"convertToInteractive('df-6cfb6a6c-e4cd-4e26-9441-3e6075843cea')\"\n",
              "            title=\"Convert this dataframe to an interactive table.\"\n",
              "            style=\"display:none;\">\n",
              "\n",
              "  <svg xmlns=\"http://www.w3.org/2000/svg\" height=\"24px\" viewBox=\"0 -960 960 960\">\n",
              "    <path d=\"M120-120v-720h720v720H120Zm60-500h600v-160H180v160Zm220 220h160v-160H400v160Zm0 220h160v-160H400v160ZM180-400h160v-160H180v160Zm440 0h160v-160H620v160ZM180-180h160v-160H180v160Zm440 0h160v-160H620v160Z\"/>\n",
              "  </svg>\n",
              "    </button>\n",
              "\n",
              "  <style>\n",
              "    .colab-df-container {\n",
              "      display:flex;\n",
              "      gap: 12px;\n",
              "    }\n",
              "\n",
              "    .colab-df-convert {\n",
              "      background-color: #E8F0FE;\n",
              "      border: none;\n",
              "      border-radius: 50%;\n",
              "      cursor: pointer;\n",
              "      display: none;\n",
              "      fill: #1967D2;\n",
              "      height: 32px;\n",
              "      padding: 0 0 0 0;\n",
              "      width: 32px;\n",
              "    }\n",
              "\n",
              "    .colab-df-convert:hover {\n",
              "      background-color: #E2EBFA;\n",
              "      box-shadow: 0px 1px 2px rgba(60, 64, 67, 0.3), 0px 1px 3px 1px rgba(60, 64, 67, 0.15);\n",
              "      fill: #174EA6;\n",
              "    }\n",
              "\n",
              "    .colab-df-buttons div {\n",
              "      margin-bottom: 4px;\n",
              "    }\n",
              "\n",
              "    [theme=dark] .colab-df-convert {\n",
              "      background-color: #3B4455;\n",
              "      fill: #D2E3FC;\n",
              "    }\n",
              "\n",
              "    [theme=dark] .colab-df-convert:hover {\n",
              "      background-color: #434B5C;\n",
              "      box-shadow: 0px 1px 3px 1px rgba(0, 0, 0, 0.15);\n",
              "      filter: drop-shadow(0px 1px 2px rgba(0, 0, 0, 0.3));\n",
              "      fill: #FFFFFF;\n",
              "    }\n",
              "  </style>\n",
              "\n",
              "    <script>\n",
              "      const buttonEl =\n",
              "        document.querySelector('#df-6cfb6a6c-e4cd-4e26-9441-3e6075843cea button.colab-df-convert');\n",
              "      buttonEl.style.display =\n",
              "        google.colab.kernel.accessAllowed ? 'block' : 'none';\n",
              "\n",
              "      async function convertToInteractive(key) {\n",
              "        const element = document.querySelector('#df-6cfb6a6c-e4cd-4e26-9441-3e6075843cea');\n",
              "        const dataTable =\n",
              "          await google.colab.kernel.invokeFunction('convertToInteractive',\n",
              "                                                    [key], {});\n",
              "        if (!dataTable) return;\n",
              "\n",
              "        const docLinkHtml = 'Like what you see? Visit the ' +\n",
              "          '<a target=\"_blank\" href=https://colab.research.google.com/notebooks/data_table.ipynb>data table notebook</a>'\n",
              "          + ' to learn more about interactive tables.';\n",
              "        element.innerHTML = '';\n",
              "        dataTable['output_type'] = 'display_data';\n",
              "        await google.colab.output.renderOutput(dataTable, element);\n",
              "        const docLink = document.createElement('div');\n",
              "        docLink.innerHTML = docLinkHtml;\n",
              "        element.appendChild(docLink);\n",
              "      }\n",
              "    </script>\n",
              "  </div>\n",
              "\n",
              "\n",
              "<div id=\"df-1b0dc8f2-1720-4b80-aebe-3d58526aa243\">\n",
              "  <button class=\"colab-df-quickchart\" onclick=\"quickchart('df-1b0dc8f2-1720-4b80-aebe-3d58526aa243')\"\n",
              "            title=\"Suggest charts\"\n",
              "            style=\"display:none;\">\n",
              "\n",
              "<svg xmlns=\"http://www.w3.org/2000/svg\" height=\"24px\"viewBox=\"0 0 24 24\"\n",
              "     width=\"24px\">\n",
              "    <g>\n",
              "        <path d=\"M19 3H5c-1.1 0-2 .9-2 2v14c0 1.1.9 2 2 2h14c1.1 0 2-.9 2-2V5c0-1.1-.9-2-2-2zM9 17H7v-7h2v7zm4 0h-2V7h2v10zm4 0h-2v-4h2v4z\"/>\n",
              "    </g>\n",
              "</svg>\n",
              "  </button>\n",
              "\n",
              "<style>\n",
              "  .colab-df-quickchart {\n",
              "      --bg-color: #E8F0FE;\n",
              "      --fill-color: #1967D2;\n",
              "      --hover-bg-color: #E2EBFA;\n",
              "      --hover-fill-color: #174EA6;\n",
              "      --disabled-fill-color: #AAA;\n",
              "      --disabled-bg-color: #DDD;\n",
              "  }\n",
              "\n",
              "  [theme=dark] .colab-df-quickchart {\n",
              "      --bg-color: #3B4455;\n",
              "      --fill-color: #D2E3FC;\n",
              "      --hover-bg-color: #434B5C;\n",
              "      --hover-fill-color: #FFFFFF;\n",
              "      --disabled-bg-color: #3B4455;\n",
              "      --disabled-fill-color: #666;\n",
              "  }\n",
              "\n",
              "  .colab-df-quickchart {\n",
              "    background-color: var(--bg-color);\n",
              "    border: none;\n",
              "    border-radius: 50%;\n",
              "    cursor: pointer;\n",
              "    display: none;\n",
              "    fill: var(--fill-color);\n",
              "    height: 32px;\n",
              "    padding: 0;\n",
              "    width: 32px;\n",
              "  }\n",
              "\n",
              "  .colab-df-quickchart:hover {\n",
              "    background-color: var(--hover-bg-color);\n",
              "    box-shadow: 0 1px 2px rgba(60, 64, 67, 0.3), 0 1px 3px 1px rgba(60, 64, 67, 0.15);\n",
              "    fill: var(--button-hover-fill-color);\n",
              "  }\n",
              "\n",
              "  .colab-df-quickchart-complete:disabled,\n",
              "  .colab-df-quickchart-complete:disabled:hover {\n",
              "    background-color: var(--disabled-bg-color);\n",
              "    fill: var(--disabled-fill-color);\n",
              "    box-shadow: none;\n",
              "  }\n",
              "\n",
              "  .colab-df-spinner {\n",
              "    border: 2px solid var(--fill-color);\n",
              "    border-color: transparent;\n",
              "    border-bottom-color: var(--fill-color);\n",
              "    animation:\n",
              "      spin 1s steps(1) infinite;\n",
              "  }\n",
              "\n",
              "  @keyframes spin {\n",
              "    0% {\n",
              "      border-color: transparent;\n",
              "      border-bottom-color: var(--fill-color);\n",
              "      border-left-color: var(--fill-color);\n",
              "    }\n",
              "    20% {\n",
              "      border-color: transparent;\n",
              "      border-left-color: var(--fill-color);\n",
              "      border-top-color: var(--fill-color);\n",
              "    }\n",
              "    30% {\n",
              "      border-color: transparent;\n",
              "      border-left-color: var(--fill-color);\n",
              "      border-top-color: var(--fill-color);\n",
              "      border-right-color: var(--fill-color);\n",
              "    }\n",
              "    40% {\n",
              "      border-color: transparent;\n",
              "      border-right-color: var(--fill-color);\n",
              "      border-top-color: var(--fill-color);\n",
              "    }\n",
              "    60% {\n",
              "      border-color: transparent;\n",
              "      border-right-color: var(--fill-color);\n",
              "    }\n",
              "    80% {\n",
              "      border-color: transparent;\n",
              "      border-right-color: var(--fill-color);\n",
              "      border-bottom-color: var(--fill-color);\n",
              "    }\n",
              "    90% {\n",
              "      border-color: transparent;\n",
              "      border-bottom-color: var(--fill-color);\n",
              "    }\n",
              "  }\n",
              "</style>\n",
              "\n",
              "  <script>\n",
              "    async function quickchart(key) {\n",
              "      const quickchartButtonEl =\n",
              "        document.querySelector('#' + key + ' button');\n",
              "      quickchartButtonEl.disabled = true;  // To prevent multiple clicks.\n",
              "      quickchartButtonEl.classList.add('colab-df-spinner');\n",
              "      try {\n",
              "        const charts = await google.colab.kernel.invokeFunction(\n",
              "            'suggestCharts', [key], {});\n",
              "      } catch (error) {\n",
              "        console.error('Error during call to suggestCharts:', error);\n",
              "      }\n",
              "      quickchartButtonEl.classList.remove('colab-df-spinner');\n",
              "      quickchartButtonEl.classList.add('colab-df-quickchart-complete');\n",
              "    }\n",
              "    (() => {\n",
              "      let quickchartButtonEl =\n",
              "        document.querySelector('#df-1b0dc8f2-1720-4b80-aebe-3d58526aa243 button');\n",
              "      quickchartButtonEl.style.display =\n",
              "        google.colab.kernel.accessAllowed ? 'block' : 'none';\n",
              "    })();\n",
              "  </script>\n",
              "</div>\n",
              "\n",
              "    </div>\n",
              "  </div>\n"
            ],
            "application/vnd.google.colaboratory.intrinsic+json": {
              "type": "dataframe",
              "variable_name": "data"
            }
          },
          "metadata": {},
          "execution_count": 4
        }
      ],
      "source": [
        "pd.set_option('display.max_columns', None)\n",
        "data = pd.read_csv(\"salary.csv\")\n",
        "data.head()"
      ]
    },
    {
      "cell_type": "markdown",
      "metadata": {
        "id": "fst0L9wc2C5Y"
      },
      "source": [
        "### **DOMAIN ANALYSIS:**"
      ]
    },
    {
      "cell_type": "markdown",
      "metadata": {
        "id": "EHO_sMpV2C5Y"
      },
      "source": [
        "- This dataset provides the salary information for positions at all 113 agencies in the Texas state government. The tribune obtained this data by requesting salary records from the state comptroller, as allowed by the Texas Public Information Act.\n",
        "- The target variable is the 'ANNUAL' since salary of the employees will be predicted and the factors affecting the 'ANNUAL' are taken as the independent features (20 columns) such as follows:\n",
        "\n",
        "##### **Independent features**:\n",
        "<ul type= 'square'>\n",
        "<li>AGENCY\n",
        "<dd>- The code of the agency where the employee works.</dd></li>\n",
        "<li>AGENCY NAME\n",
        "<dd>- The full name of the agency where the employee works.</dd></li>\n",
        "<li>LAST NAME\n",
        "<dd>- The last name of the employee which represents the family name in the culture of many societies.</dd></li>\n",
        "<li>FIRST NAME\n",
        "<dd>- The first name of the employee which is typically the birth name that is used before the family name.</dd></li>\n",
        "<li>MI (Middle Initial)\n",
        "<dd>- The middle initial of the employee.</dd></li>\n",
        "<li>CLASS CODE\n",
        "<dd>- The code or identifier of the job classification.</dd></li>\n",
        "<li>CLASS TITLE\n",
        "<dd>- The title/ designation of the job classification or class.</dd></li>\n",
        "<li>ETHNICITY\n",
        "<dd>- The ethnic background of the employee (the group in which the employee shares the common cultural background).</dd></li>\n",
        "<li>GENDER\n",
        "<dd>- the gender of the employee(denotes a range of identities an individual relates with).</dd></li>\n",
        "<li>STATUS\n",
        "<dd>- The employment status of the employee (e.g., full-time, part-time, temporary).</dd></li>\n",
        "<li>EMPLOY DATE\n",
        "<dd>- The date when the employee was hired.</dd></li>\n",
        "<li>HRLY RATE\n",
        "<dd>- The rate of pay per hour for the employee.</dd></li>\n",
        "<li>HRS PER WK\n",
        "<dd>- The number of hours worked per week by the employee.</dd></li>\n",
        "<li>MONTHLY\n",
        "<dd>- (Monthly income)- The monthly income earned by the employee.</dd></li>\n",
        "<li>STATE NUMBER\n",
        "<dd>- The state identification number or code associated with the employee.</dd></li>\n",
        "<li>duplicated\n",
        "<dd>- Indicates whether the record is duplicated.</dd></li>\n",
        "<li>multiple_full_time_jobs\n",
        "<dd>- Indicates if the employee holds multiple full-time jobs</dd></li>\n",
        "<li>combined_multiple_jobs\n",
        "<dd>- Indicates if the employee's income is combined from multiple jobs.</dd></li>\n",
        "<li>summed_annual_salary\n",
        "<dd>- Total annual salary earned by the employee, considering multiple jobs or income sources.</dd></li>\n",
        "<li>hide_from_search\n",
        "<dd>- A flag indicating whether the record should be hidden from search queries or not.</dd></li></ul>\n",
        "\n",
        "- The **target variable** **'ANNUAL'** is supposed to be predicted as it is **the annual income earned by the employee**.\n"
      ]
    },
    {
      "cell_type": "markdown",
      "metadata": {
        "id": "LuWNgJy92C5Y"
      },
      "source": [
        "### **BASIC CHECKS:**"
      ]
    },
    {
      "cell_type": "code",
      "execution_count": null,
      "metadata": {
        "id": "3ePGQiHC2C5Y",
        "outputId": "0f90a67e-b230-4ac2-f953-c64adaa763e5"
      },
      "outputs": [
        {
          "name": "stdout",
          "output_type": "stream",
          "text": [
            "(149481, 21)\n",
            "rows: 149481\n",
            "columns: 21\n"
          ]
        }
      ],
      "source": [
        "# viewing dimension of the data\n",
        "\n",
        "x= data.shape\n",
        "print(x)\n",
        "print(f'rows: {x[0]}\\ncolumns: {x[1]}')"
      ]
    },
    {
      "cell_type": "code",
      "execution_count": null,
      "metadata": {
        "id": "QXz0uf0T2C5Y",
        "outputId": "4640ed22-c762-43ce-f2b0-7c614d48b20d"
      },
      "outputs": [
        {
          "data": {
            "text/html": [
              "<div>\n",
              "<style scoped>\n",
              "    .dataframe tbody tr th:only-of-type {\n",
              "        vertical-align: middle;\n",
              "    }\n",
              "\n",
              "    .dataframe tbody tr th {\n",
              "        vertical-align: top;\n",
              "    }\n",
              "\n",
              "    .dataframe thead th {\n",
              "        text-align: right;\n",
              "    }\n",
              "</style>\n",
              "<table border=\"1\" class=\"dataframe\">\n",
              "  <thead>\n",
              "    <tr style=\"text-align: right;\">\n",
              "      <th></th>\n",
              "      <th>AGENCY</th>\n",
              "      <th>AGENCY NAME</th>\n",
              "      <th>LAST NAME</th>\n",
              "      <th>FIRST NAME</th>\n",
              "      <th>MI</th>\n",
              "      <th>CLASS CODE</th>\n",
              "      <th>CLASS TITLE</th>\n",
              "      <th>ETHNICITY</th>\n",
              "      <th>GENDER</th>\n",
              "      <th>STATUS</th>\n",
              "      <th>EMPLOY DATE</th>\n",
              "      <th>HRLY RATE</th>\n",
              "      <th>HRS PER WK</th>\n",
              "      <th>MONTHLY</th>\n",
              "      <th>ANNUAL</th>\n",
              "      <th>STATE NUMBER</th>\n",
              "      <th>duplicated</th>\n",
              "      <th>multiple_full_time_jobs</th>\n",
              "      <th>combined_multiple_jobs</th>\n",
              "      <th>summed_annual_salary</th>\n",
              "      <th>hide_from_search</th>\n",
              "    </tr>\n",
              "  </thead>\n",
              "  <tbody>\n",
              "    <tr>\n",
              "      <th>0</th>\n",
              "      <td>241</td>\n",
              "      <td>COMPTROLLER OF PUBLIC ACCOUNTS, JUDICIARY SECT...</td>\n",
              "      <td>RUCKER</td>\n",
              "      <td>MORTON</td>\n",
              "      <td>V</td>\n",
              "      <td>JD25</td>\n",
              "      <td>JUDGE, RETIRED                                ...</td>\n",
              "      <td>WHITE</td>\n",
              "      <td>MALE</td>\n",
              "      <td>URP - UNCLASSIFIED REGULAR PART-TIME</td>\n",
              "      <td>02/18/88</td>\n",
              "      <td>75.96150</td>\n",
              "      <td>29.0</td>\n",
              "      <td>9545.82</td>\n",
              "      <td>114549.84</td>\n",
              "      <td>127717</td>\n",
              "      <td>True</td>\n",
              "      <td>NaN</td>\n",
              "      <td>NaN</td>\n",
              "      <td>131407.08</td>\n",
              "      <td>NaN</td>\n",
              "    </tr>\n",
              "    <tr>\n",
              "      <th>1</th>\n",
              "      <td>212</td>\n",
              "      <td>OFFICE OF COURT ADMINISTRATION                ...</td>\n",
              "      <td>RUCKER</td>\n",
              "      <td>MORTON</td>\n",
              "      <td>V</td>\n",
              "      <td>3524</td>\n",
              "      <td>GENERAL COUNSEL IV                            ...</td>\n",
              "      <td>WHITE</td>\n",
              "      <td>MALE</td>\n",
              "      <td>CTP - CLASSIFIED TEMPORARY PART-TIME</td>\n",
              "      <td>02/01/15</td>\n",
              "      <td>81.04454</td>\n",
              "      <td>4.0</td>\n",
              "      <td>1404.77</td>\n",
              "      <td>16857.24</td>\n",
              "      <td>127717</td>\n",
              "      <td>True</td>\n",
              "      <td>NaN</td>\n",
              "      <td>NaN</td>\n",
              "      <td>NaN</td>\n",
              "      <td>True</td>\n",
              "    </tr>\n",
              "    <tr>\n",
              "      <th>2</th>\n",
              "      <td>241</td>\n",
              "      <td>COMPTROLLER OF PUBLIC ACCOUNTS, JUDICIARY SECT...</td>\n",
              "      <td>SPECIA JR</td>\n",
              "      <td>JOHN</td>\n",
              "      <td>J</td>\n",
              "      <td>JD25</td>\n",
              "      <td>JUDGE, RETIRED                                ...</td>\n",
              "      <td>WHITE</td>\n",
              "      <td>MALE</td>\n",
              "      <td>URP - UNCLASSIFIED REGULAR PART-TIME</td>\n",
              "      <td>02/01/20</td>\n",
              "      <td>75.96150</td>\n",
              "      <td>29.0</td>\n",
              "      <td>9545.82</td>\n",
              "      <td>114549.84</td>\n",
              "      <td>59115</td>\n",
              "      <td>True</td>\n",
              "      <td>NaN</td>\n",
              "      <td>NaN</td>\n",
              "      <td>131407.08</td>\n",
              "      <td>NaN</td>\n",
              "    </tr>\n",
              "    <tr>\n",
              "      <th>3</th>\n",
              "      <td>212</td>\n",
              "      <td>OFFICE OF COURT ADMINISTRATION                ...</td>\n",
              "      <td>SPECIA JR</td>\n",
              "      <td>JOHN</td>\n",
              "      <td>J</td>\n",
              "      <td>3524</td>\n",
              "      <td>GENERAL COUNSEL IV                            ...</td>\n",
              "      <td>WHITE</td>\n",
              "      <td>MALE</td>\n",
              "      <td>CTP - CLASSIFIED TEMPORARY PART-TIME</td>\n",
              "      <td>09/01/18</td>\n",
              "      <td>81.04453</td>\n",
              "      <td>4.0</td>\n",
              "      <td>1404.77</td>\n",
              "      <td>16857.24</td>\n",
              "      <td>59115</td>\n",
              "      <td>True</td>\n",
              "      <td>NaN</td>\n",
              "      <td>NaN</td>\n",
              "      <td>NaN</td>\n",
              "      <td>True</td>\n",
              "    </tr>\n",
              "    <tr>\n",
              "      <th>4</th>\n",
              "      <td>696</td>\n",
              "      <td>TEXAS DEPARTMENT OF CRIMINAL JUSTICE          ...</td>\n",
              "      <td>ONTIVEROS</td>\n",
              "      <td>ESTHER</td>\n",
              "      <td></td>\n",
              "      <td>4504</td>\n",
              "      <td>CORREC  OFFICER IV                            ...</td>\n",
              "      <td>HISPANIC</td>\n",
              "      <td>FEMALE</td>\n",
              "      <td>CRF - CLASSIFIED REGULAR FULL-TIME</td>\n",
              "      <td>06/29/20</td>\n",
              "      <td>0.00000</td>\n",
              "      <td>40.0</td>\n",
              "      <td>3284.27</td>\n",
              "      <td>39411.24</td>\n",
              "      <td>165030</td>\n",
              "      <td>True</td>\n",
              "      <td>1.0</td>\n",
              "      <td>NaN</td>\n",
              "      <td>NaN</td>\n",
              "      <td>NaN</td>\n",
              "    </tr>\n",
              "  </tbody>\n",
              "</table>\n",
              "</div>"
            ],
            "text/plain": [
              "   AGENCY                                        AGENCY NAME  \\\n",
              "0     241  COMPTROLLER OF PUBLIC ACCOUNTS, JUDICIARY SECT...   \n",
              "1     212  OFFICE OF COURT ADMINISTRATION                ...   \n",
              "2     241  COMPTROLLER OF PUBLIC ACCOUNTS, JUDICIARY SECT...   \n",
              "3     212  OFFICE OF COURT ADMINISTRATION                ...   \n",
              "4     696  TEXAS DEPARTMENT OF CRIMINAL JUSTICE          ...   \n",
              "\n",
              "                        LAST NAME                      FIRST NAME MI  \\\n",
              "0  RUCKER                          MORTON                          V   \n",
              "1  RUCKER                          MORTON                          V   \n",
              "2  SPECIA JR                       JOHN                            J   \n",
              "3  SPECIA JR                       JOHN                            J   \n",
              "4  ONTIVEROS                       ESTHER                              \n",
              "\n",
              "  CLASS CODE                                        CLASS TITLE  \\\n",
              "0   JD25      JUDGE, RETIRED                                ...   \n",
              "1   3524      GENERAL COUNSEL IV                            ...   \n",
              "2   JD25      JUDGE, RETIRED                                ...   \n",
              "3   3524      GENERAL COUNSEL IV                            ...   \n",
              "4   4504      CORREC  OFFICER IV                            ...   \n",
              "\n",
              "         ETHNICITY           GENDER                                    STATUS  \\\n",
              "0  WHITE            MALE             URP - UNCLASSIFIED REGULAR PART-TIME       \n",
              "1  WHITE            MALE             CTP - CLASSIFIED TEMPORARY PART-TIME       \n",
              "2  WHITE            MALE             URP - UNCLASSIFIED REGULAR PART-TIME       \n",
              "3  WHITE            MALE             CTP - CLASSIFIED TEMPORARY PART-TIME       \n",
              "4  HISPANIC         FEMALE           CRF - CLASSIFIED REGULAR FULL-TIME         \n",
              "\n",
              "  EMPLOY DATE  HRLY RATE  HRS PER WK  MONTHLY     ANNUAL  STATE NUMBER  \\\n",
              "0    02/18/88   75.96150        29.0  9545.82  114549.84        127717   \n",
              "1    02/01/15   81.04454         4.0  1404.77   16857.24        127717   \n",
              "2    02/01/20   75.96150        29.0  9545.82  114549.84         59115   \n",
              "3    09/01/18   81.04453         4.0  1404.77   16857.24         59115   \n",
              "4    06/29/20    0.00000        40.0  3284.27   39411.24        165030   \n",
              "\n",
              "  duplicated  multiple_full_time_jobs combined_multiple_jobs  \\\n",
              "0       True                      NaN                    NaN   \n",
              "1       True                      NaN                    NaN   \n",
              "2       True                      NaN                    NaN   \n",
              "3       True                      NaN                    NaN   \n",
              "4       True                      1.0                    NaN   \n",
              "\n",
              "   summed_annual_salary hide_from_search  \n",
              "0             131407.08              NaN  \n",
              "1                   NaN             True  \n",
              "2             131407.08              NaN  \n",
              "3                   NaN             True  \n",
              "4                   NaN              NaN  "
            ]
          },
          "execution_count": 9,
          "metadata": {},
          "output_type": "execute_result"
        }
      ],
      "source": [
        "# first five rows\n",
        "\n",
        "data.head()"
      ]
    },
    {
      "cell_type": "code",
      "execution_count": null,
      "metadata": {
        "id": "YlJzuy2M2C5Y",
        "outputId": "9a09500b-5acf-4070-b26e-b576fe923389"
      },
      "outputs": [
        {
          "data": {
            "text/html": [
              "<div>\n",
              "<style scoped>\n",
              "    .dataframe tbody tr th:only-of-type {\n",
              "        vertical-align: middle;\n",
              "    }\n",
              "\n",
              "    .dataframe tbody tr th {\n",
              "        vertical-align: top;\n",
              "    }\n",
              "\n",
              "    .dataframe thead th {\n",
              "        text-align: right;\n",
              "    }\n",
              "</style>\n",
              "<table border=\"1\" class=\"dataframe\">\n",
              "  <thead>\n",
              "    <tr style=\"text-align: right;\">\n",
              "      <th></th>\n",
              "      <th>AGENCY</th>\n",
              "      <th>AGENCY NAME</th>\n",
              "      <th>LAST NAME</th>\n",
              "      <th>FIRST NAME</th>\n",
              "      <th>MI</th>\n",
              "      <th>CLASS CODE</th>\n",
              "      <th>CLASS TITLE</th>\n",
              "      <th>ETHNICITY</th>\n",
              "      <th>GENDER</th>\n",
              "      <th>STATUS</th>\n",
              "      <th>EMPLOY DATE</th>\n",
              "      <th>HRLY RATE</th>\n",
              "      <th>HRS PER WK</th>\n",
              "      <th>MONTHLY</th>\n",
              "      <th>ANNUAL</th>\n",
              "      <th>STATE NUMBER</th>\n",
              "      <th>duplicated</th>\n",
              "      <th>multiple_full_time_jobs</th>\n",
              "      <th>combined_multiple_jobs</th>\n",
              "      <th>summed_annual_salary</th>\n",
              "      <th>hide_from_search</th>\n",
              "    </tr>\n",
              "  </thead>\n",
              "  <tbody>\n",
              "    <tr>\n",
              "      <th>149476</th>\n",
              "      <td>809</td>\n",
              "      <td>STATE PRESERVATION BOARD                      ...</td>\n",
              "      <td>WESSELS</td>\n",
              "      <td>JOHN</td>\n",
              "      <td>P</td>\n",
              "      <td>6232</td>\n",
              "      <td>SECURITY OFFICER III                          ...</td>\n",
              "      <td>WHITE</td>\n",
              "      <td>MALE</td>\n",
              "      <td>CRF - CLASSIFIED REGULAR FULL-TIME</td>\n",
              "      <td>10/30/17</td>\n",
              "      <td>0.00</td>\n",
              "      <td>40.0</td>\n",
              "      <td>2899.00</td>\n",
              "      <td>34788.00</td>\n",
              "      <td>770781</td>\n",
              "      <td>NaN</td>\n",
              "      <td>NaN</td>\n",
              "      <td>NaN</td>\n",
              "      <td>NaN</td>\n",
              "      <td>NaN</td>\n",
              "    </tr>\n",
              "    <tr>\n",
              "      <th>149477</th>\n",
              "      <td>809</td>\n",
              "      <td>STATE PRESERVATION BOARD                      ...</td>\n",
              "      <td>WINDHAM</td>\n",
              "      <td>EVAN</td>\n",
              "      <td>A</td>\n",
              "      <td>0302</td>\n",
              "      <td>WEB ADMINISTRATOR III                         ...</td>\n",
              "      <td>WHITE</td>\n",
              "      <td>FEMALE</td>\n",
              "      <td>CRF - CLASSIFIED REGULAR FULL-TIME</td>\n",
              "      <td>07/13/15</td>\n",
              "      <td>0.00</td>\n",
              "      <td>40.0</td>\n",
              "      <td>5500.00</td>\n",
              "      <td>66000.00</td>\n",
              "      <td>847431</td>\n",
              "      <td>NaN</td>\n",
              "      <td>NaN</td>\n",
              "      <td>NaN</td>\n",
              "      <td>NaN</td>\n",
              "      <td>NaN</td>\n",
              "    </tr>\n",
              "    <tr>\n",
              "      <th>149478</th>\n",
              "      <td>809</td>\n",
              "      <td>STATE PRESERVATION BOARD                      ...</td>\n",
              "      <td>WRIGHT</td>\n",
              "      <td>DERRICK</td>\n",
              "      <td>C</td>\n",
              "      <td>0130</td>\n",
              "      <td>CUSTOMER SERVICE REP I                        ...</td>\n",
              "      <td>WHITE</td>\n",
              "      <td>MALE</td>\n",
              "      <td>CRP - CLASSIFIED REGULAR PART-TIME</td>\n",
              "      <td>10/15/12</td>\n",
              "      <td>12.93</td>\n",
              "      <td>20.0</td>\n",
              "      <td>1120.60</td>\n",
              "      <td>13447.20</td>\n",
              "      <td>34266</td>\n",
              "      <td>NaN</td>\n",
              "      <td>NaN</td>\n",
              "      <td>NaN</td>\n",
              "      <td>NaN</td>\n",
              "      <td>NaN</td>\n",
              "    </tr>\n",
              "    <tr>\n",
              "      <th>149479</th>\n",
              "      <td>809</td>\n",
              "      <td>STATE PRESERVATION BOARD                      ...</td>\n",
              "      <td>YOUNG</td>\n",
              "      <td>DOUGLAS</td>\n",
              "      <td>R</td>\n",
              "      <td>1572</td>\n",
              "      <td>PROGRAM SPECIALIST III                        ...</td>\n",
              "      <td>WHITE</td>\n",
              "      <td>MALE</td>\n",
              "      <td>CRF - CLASSIFIED REGULAR FULL-TIME</td>\n",
              "      <td>09/22/89</td>\n",
              "      <td>0.00</td>\n",
              "      <td>40.0</td>\n",
              "      <td>5744.16</td>\n",
              "      <td>68929.92</td>\n",
              "      <td>123490</td>\n",
              "      <td>NaN</td>\n",
              "      <td>NaN</td>\n",
              "      <td>NaN</td>\n",
              "      <td>NaN</td>\n",
              "      <td>NaN</td>\n",
              "    </tr>\n",
              "    <tr>\n",
              "      <th>149480</th>\n",
              "      <td>809</td>\n",
              "      <td>STATE PRESERVATION BOARD                      ...</td>\n",
              "      <td>ZUNKER</td>\n",
              "      <td>GEORGIA</td>\n",
              "      <td>P</td>\n",
              "      <td>0130</td>\n",
              "      <td>CUSTOMER SERVICE REP I                        ...</td>\n",
              "      <td>WHITE</td>\n",
              "      <td>FEMALE</td>\n",
              "      <td>CRP - CLASSIFIED REGULAR PART-TIME</td>\n",
              "      <td>02/16/12</td>\n",
              "      <td>11.74</td>\n",
              "      <td>20.0</td>\n",
              "      <td>1017.46</td>\n",
              "      <td>12209.52</td>\n",
              "      <td>103583</td>\n",
              "      <td>NaN</td>\n",
              "      <td>NaN</td>\n",
              "      <td>NaN</td>\n",
              "      <td>NaN</td>\n",
              "      <td>NaN</td>\n",
              "    </tr>\n",
              "  </tbody>\n",
              "</table>\n",
              "</div>"
            ],
            "text/plain": [
              "        AGENCY                                        AGENCY NAME  \\\n",
              "149476     809  STATE PRESERVATION BOARD                      ...   \n",
              "149477     809  STATE PRESERVATION BOARD                      ...   \n",
              "149478     809  STATE PRESERVATION BOARD                      ...   \n",
              "149479     809  STATE PRESERVATION BOARD                      ...   \n",
              "149480     809  STATE PRESERVATION BOARD                      ...   \n",
              "\n",
              "                             LAST NAME                      FIRST NAME MI  \\\n",
              "149476  WESSELS                         JOHN                            P   \n",
              "149477  WINDHAM                         EVAN                            A   \n",
              "149478  WRIGHT                          DERRICK                         C   \n",
              "149479  YOUNG                           DOUGLAS                         R   \n",
              "149480  ZUNKER                          GEORGIA                         P   \n",
              "\n",
              "       CLASS CODE                                        CLASS TITLE  \\\n",
              "149476   6232      SECURITY OFFICER III                          ...   \n",
              "149477   0302      WEB ADMINISTRATOR III                         ...   \n",
              "149478   0130      CUSTOMER SERVICE REP I                        ...   \n",
              "149479   1572      PROGRAM SPECIALIST III                        ...   \n",
              "149480   0130      CUSTOMER SERVICE REP I                        ...   \n",
              "\n",
              "              ETHNICITY           GENDER  \\\n",
              "149476  WHITE            MALE              \n",
              "149477  WHITE            FEMALE            \n",
              "149478  WHITE            MALE              \n",
              "149479  WHITE            MALE              \n",
              "149480  WHITE            FEMALE            \n",
              "\n",
              "                                          STATUS EMPLOY DATE  HRLY RATE  \\\n",
              "149476  CRF - CLASSIFIED REGULAR FULL-TIME          10/30/17       0.00   \n",
              "149477  CRF - CLASSIFIED REGULAR FULL-TIME          07/13/15       0.00   \n",
              "149478  CRP - CLASSIFIED REGULAR PART-TIME          10/15/12      12.93   \n",
              "149479  CRF - CLASSIFIED REGULAR FULL-TIME          09/22/89       0.00   \n",
              "149480  CRP - CLASSIFIED REGULAR PART-TIME          02/16/12      11.74   \n",
              "\n",
              "        HRS PER WK  MONTHLY    ANNUAL  STATE NUMBER duplicated  \\\n",
              "149476        40.0  2899.00  34788.00        770781        NaN   \n",
              "149477        40.0  5500.00  66000.00        847431        NaN   \n",
              "149478        20.0  1120.60  13447.20         34266        NaN   \n",
              "149479        40.0  5744.16  68929.92        123490        NaN   \n",
              "149480        20.0  1017.46  12209.52        103583        NaN   \n",
              "\n",
              "        multiple_full_time_jobs combined_multiple_jobs  summed_annual_salary  \\\n",
              "149476                      NaN                    NaN                   NaN   \n",
              "149477                      NaN                    NaN                   NaN   \n",
              "149478                      NaN                    NaN                   NaN   \n",
              "149479                      NaN                    NaN                   NaN   \n",
              "149480                      NaN                    NaN                   NaN   \n",
              "\n",
              "       hide_from_search  \n",
              "149476              NaN  \n",
              "149477              NaN  \n",
              "149478              NaN  \n",
              "149479              NaN  \n",
              "149480              NaN  "
            ]
          },
          "execution_count": 10,
          "metadata": {},
          "output_type": "execute_result"
        }
      ],
      "source": [
        "# last five records\n",
        "\n",
        "data.tail()"
      ]
    },
    {
      "cell_type": "code",
      "execution_count": null,
      "metadata": {
        "id": "f5vWGU962C5Y",
        "outputId": "e1a620bf-54af-4fb8-e021-be5bd0a815e3"
      },
      "outputs": [
        {
          "data": {
            "text/plain": [
              "Index(['AGENCY', 'AGENCY NAME', 'LAST NAME', 'FIRST NAME', 'MI', 'CLASS CODE',\n",
              "       'CLASS TITLE', 'ETHNICITY', 'GENDER', 'STATUS', 'EMPLOY DATE',\n",
              "       'HRLY RATE', 'HRS PER WK', 'MONTHLY', 'ANNUAL', 'STATE NUMBER',\n",
              "       'duplicated', 'multiple_full_time_jobs', 'combined_multiple_jobs',\n",
              "       'summed_annual_salary', 'hide_from_search'],\n",
              "      dtype='object')"
            ]
          },
          "execution_count": 11,
          "metadata": {},
          "output_type": "execute_result"
        }
      ],
      "source": [
        "# column names\n",
        "\n",
        "data.columns"
      ]
    },
    {
      "cell_type": "code",
      "execution_count": null,
      "metadata": {
        "id": "y9LUoXwi2C5Y",
        "outputId": "5264751c-88d7-4270-addd-90eca07ac085"
      },
      "outputs": [
        {
          "data": {
            "text/plain": [
              "AGENCY                       int64\n",
              "AGENCY NAME                 object\n",
              "LAST NAME                   object\n",
              "FIRST NAME                  object\n",
              "MI                          object\n",
              "CLASS CODE                  object\n",
              "CLASS TITLE                 object\n",
              "ETHNICITY                   object\n",
              "GENDER                      object\n",
              "STATUS                      object\n",
              "EMPLOY DATE                 object\n",
              "HRLY RATE                  float64\n",
              "HRS PER WK                 float64\n",
              "MONTHLY                    float64\n",
              "ANNUAL                     float64\n",
              "STATE NUMBER                 int64\n",
              "duplicated                  object\n",
              "multiple_full_time_jobs    float64\n",
              "combined_multiple_jobs      object\n",
              "summed_annual_salary       float64\n",
              "hide_from_search            object\n",
              "dtype: object"
            ]
          },
          "execution_count": 12,
          "metadata": {},
          "output_type": "execute_result"
        }
      ],
      "source": [
        "# showing datatypes\n",
        "\n",
        "data.dtypes"
      ]
    },
    {
      "cell_type": "markdown",
      "metadata": {
        "id": "X-xSt70E2C5Y"
      },
      "source": [
        "#### Insights:\n",
        "All the columns show different datatypes of int64, float64 and object type.\n",
        "<dl>\n",
        "<dt>-int64</dt>\n",
        "<dd>AGENCY, STATE NUMBER</dd>\n",
        "<dt>-float64</dt>\n",
        "<dd>HRLY RATE, HRS PER WK, MONTHLY, ANNUAL, multiple_full_time_jobs, summed_annual_salary</dd>\n",
        "<dt>-object</dt>\n",
        "<dd>AGENCY NAME, LAST NAME, FIRST NAME, MI, CLASS CODE, CLASS TITLE, ETHNICITY, GENDER, STATUS, EMPLOY DATE, duplicated, combined_multiple_jobs, hide_from_search</dd>"
      ]
    },
    {
      "cell_type": "code",
      "execution_count": null,
      "metadata": {
        "id": "EOQcEJ1A2C5Y",
        "outputId": "be027a34-7247-46e6-ec1c-9c13fa2ee0e8"
      },
      "outputs": [
        {
          "name": "stdout",
          "output_type": "stream",
          "text": [
            "<class 'pandas.core.frame.DataFrame'>\n",
            "RangeIndex: 149481 entries, 0 to 149480\n",
            "Data columns (total 21 columns):\n",
            " #   Column                   Non-Null Count   Dtype  \n",
            "---  ------                   --------------   -----  \n",
            " 0   AGENCY                   149481 non-null  int64  \n",
            " 1   AGENCY NAME              149481 non-null  object \n",
            " 2   LAST NAME                149481 non-null  object \n",
            " 3   FIRST NAME               149481 non-null  object \n",
            " 4   MI                       149481 non-null  object \n",
            " 5   CLASS CODE               149481 non-null  object \n",
            " 6   CLASS TITLE              149481 non-null  object \n",
            " 7   ETHNICITY                149481 non-null  object \n",
            " 8   GENDER                   149481 non-null  object \n",
            " 9   STATUS                   149481 non-null  object \n",
            " 10  EMPLOY DATE              149481 non-null  object \n",
            " 11  HRLY RATE                149481 non-null  float64\n",
            " 12  HRS PER WK               149481 non-null  float64\n",
            " 13  MONTHLY                  149481 non-null  float64\n",
            " 14  ANNUAL                   149481 non-null  float64\n",
            " 15  STATE NUMBER             149481 non-null  int64  \n",
            " 16  duplicated               143 non-null     object \n",
            " 17  multiple_full_time_jobs  14 non-null      float64\n",
            " 18  combined_multiple_jobs   97 non-null      object \n",
            " 19  summed_annual_salary     16 non-null      float64\n",
            " 20  hide_from_search         16 non-null      object \n",
            "dtypes: float64(6), int64(2), object(13)\n",
            "memory usage: 23.9+ MB\n"
          ]
        }
      ],
      "source": [
        "# Basic information about the features\n",
        "\n",
        "data.info()"
      ]
    },
    {
      "cell_type": "markdown",
      "metadata": {
        "id": "ABKIyYiG2C5Z"
      },
      "source": [
        "##### Insights:\n",
        "- Most of the columns do not have null values except features such as duplicated, multiple_full_time_jobs, combined_multiple_jobs, summed_annual salary and hide_from_search.\n",
        "- However, these columns could not contribute much to the model due to sparsity of data. Besides that, handling this much large proportion of missing values might posess the risk of introducing bias into the model.  Hence these columns with null values could be dropped for predictive modeling."
      ]
    },
    {
      "cell_type": "code",
      "execution_count": null,
      "metadata": {
        "id": "DJP0syh52C5Z",
        "outputId": "d3ff853c-059f-4a78-c8cc-b3c546c23fd1"
      },
      "outputs": [
        {
          "data": {
            "text/html": [
              "<style type=\"text/css\">\n",
              "#T_75903_row0_col0, #T_75903_row0_col1, #T_75903_row0_col2, #T_75903_row0_col4, #T_75903_row0_col5, #T_75903_row0_col6, #T_75903_row0_col7, #T_75903_row1_col3, #T_75903_row2_col0, #T_75903_row3_col0, #T_75903_row4_col0, #T_75903_row5_col0, #T_75903_row6_col0 {\n",
              "  background-color: #fcfdbf;\n",
              "  color: #000000;\n",
              "}\n",
              "#T_75903_row0_col3, #T_75903_row1_col0, #T_75903_row3_col3, #T_75903_row4_col1, #T_75903_row4_col2, #T_75903_row4_col5, #T_75903_row4_col6, #T_75903_row4_col7, #T_75903_row5_col1, #T_75903_row5_col2, #T_75903_row5_col3, #T_75903_row5_col4, #T_75903_row5_col5, #T_75903_row5_col6, #T_75903_row5_col7, #T_75903_row6_col1, #T_75903_row6_col2, #T_75903_row6_col3, #T_75903_row6_col4, #T_75903_row6_col5, #T_75903_row6_col6, #T_75903_row6_col7, #T_75903_row7_col0, #T_75903_row7_col1, #T_75903_row7_col2, #T_75903_row7_col3, #T_75903_row7_col4, #T_75903_row7_col5, #T_75903_row7_col6, #T_75903_row7_col7 {\n",
              "  background-color: #000004;\n",
              "  color: #f1f1f1;\n",
              "}\n",
              "#T_75903_row1_col1 {\n",
              "  background-color: #1e1149;\n",
              "  color: #f1f1f1;\n",
              "}\n",
              "#T_75903_row1_col2 {\n",
              "  background-color: #160f3b;\n",
              "  color: #f1f1f1;\n",
              "}\n",
              "#T_75903_row1_col4 {\n",
              "  background-color: #601880;\n",
              "  color: #f1f1f1;\n",
              "}\n",
              "#T_75903_row1_col5 {\n",
              "  background-color: #21114e;\n",
              "  color: #f1f1f1;\n",
              "}\n",
              "#T_75903_row1_col6 {\n",
              "  background-color: #180f3d;\n",
              "  color: #f1f1f1;\n",
              "}\n",
              "#T_75903_row1_col7 {\n",
              "  background-color: #20114b;\n",
              "  color: #f1f1f1;\n",
              "}\n",
              "#T_75903_row2_col1 {\n",
              "  background-color: #110c2f;\n",
              "  color: #f1f1f1;\n",
              "}\n",
              "#T_75903_row2_col2, #T_75903_row2_col6 {\n",
              "  background-color: #07061c;\n",
              "  color: #f1f1f1;\n",
              "}\n",
              "#T_75903_row2_col3 {\n",
              "  background-color: #030312;\n",
              "  color: #f1f1f1;\n",
              "}\n",
              "#T_75903_row2_col4 {\n",
              "  background-color: #6b1d81;\n",
              "  color: #f1f1f1;\n",
              "}\n",
              "#T_75903_row2_col5 {\n",
              "  background-color: #1d1147;\n",
              "  color: #f1f1f1;\n",
              "}\n",
              "#T_75903_row2_col7 {\n",
              "  background-color: #9b2e7f;\n",
              "  color: #f1f1f1;\n",
              "}\n",
              "#T_75903_row3_col1, #T_75903_row3_col2, #T_75903_row3_col6, #T_75903_row4_col3, #T_75903_row4_col4 {\n",
              "  background-color: #010005;\n",
              "  color: #f1f1f1;\n",
              "}\n",
              "#T_75903_row3_col4 {\n",
              "  background-color: #02020d;\n",
              "  color: #f1f1f1;\n",
              "}\n",
              "#T_75903_row3_col5 {\n",
              "  background-color: #010106;\n",
              "  color: #f1f1f1;\n",
              "}\n",
              "#T_75903_row3_col7 {\n",
              "  background-color: #040414;\n",
              "  color: #f1f1f1;\n",
              "}\n",
              "</style>\n",
              "<table id=\"T_75903\">\n",
              "  <thead>\n",
              "    <tr>\n",
              "      <th class=\"blank level0\" >&nbsp;</th>\n",
              "      <th id=\"T_75903_level0_col0\" class=\"col_heading level0 col0\" >count</th>\n",
              "      <th id=\"T_75903_level0_col1\" class=\"col_heading level0 col1\" >mean</th>\n",
              "      <th id=\"T_75903_level0_col2\" class=\"col_heading level0 col2\" >std</th>\n",
              "      <th id=\"T_75903_level0_col3\" class=\"col_heading level0 col3\" >min</th>\n",
              "      <th id=\"T_75903_level0_col4\" class=\"col_heading level0 col4\" >25%</th>\n",
              "      <th id=\"T_75903_level0_col5\" class=\"col_heading level0 col5\" >50%</th>\n",
              "      <th id=\"T_75903_level0_col6\" class=\"col_heading level0 col6\" >75%</th>\n",
              "      <th id=\"T_75903_level0_col7\" class=\"col_heading level0 col7\" >max</th>\n",
              "    </tr>\n",
              "  </thead>\n",
              "  <tbody>\n",
              "    <tr>\n",
              "      <th id=\"T_75903_level0_row0\" class=\"row_heading level0 row0\" >STATE NUMBER</th>\n",
              "      <td id=\"T_75903_row0_col0\" class=\"data row0 col0\" >149481.000000</td>\n",
              "      <td id=\"T_75903_row0_col1\" class=\"data row0 col1\" >565193.023521</td>\n",
              "      <td id=\"T_75903_row0_col2\" class=\"data row0 col2\" >478621.220542</td>\n",
              "      <td id=\"T_75903_row0_col3\" class=\"data row0 col3\" >1.000000</td>\n",
              "      <td id=\"T_75903_row0_col4\" class=\"data row0 col4\" >113334.000000</td>\n",
              "      <td id=\"T_75903_row0_col5\" class=\"data row0 col5\" >346373.000000</td>\n",
              "      <td id=\"T_75903_row0_col6\" class=\"data row0 col6\" >1100500.000000</td>\n",
              "      <td id=\"T_75903_row0_col7\" class=\"data row0 col7\" >1271604.000000</td>\n",
              "    </tr>\n",
              "    <tr>\n",
              "      <th id=\"T_75903_level0_row1\" class=\"row_heading level0 row1\" >summed_annual_salary</th>\n",
              "      <td id=\"T_75903_row1_col0\" class=\"data row1 col0\" >16.000000</td>\n",
              "      <td id=\"T_75903_row1_col1\" class=\"data row1 col1\" >74303.955000</td>\n",
              "      <td id=\"T_75903_row1_col2\" class=\"data row1 col2\" >51925.944282</td>\n",
              "      <td id=\"T_75903_row1_col3\" class=\"data row1 col3\" >18000.000000</td>\n",
              "      <td id=\"T_75903_row1_col4\" class=\"data row1 col4\" >32962.500000</td>\n",
              "      <td id=\"T_75903_row1_col5\" class=\"data row1 col5\" >48063.300000</td>\n",
              "      <td id=\"T_75903_row1_col6\" class=\"data row1 col6\" >123751.770000</td>\n",
              "      <td id=\"T_75903_row1_col7\" class=\"data row1 col7\" >171383.400000</td>\n",
              "    </tr>\n",
              "    <tr>\n",
              "      <th id=\"T_75903_level0_row2\" class=\"row_heading level0 row2\" >ANNUAL</th>\n",
              "      <td id=\"T_75903_row2_col0\" class=\"data row2 col0\" >149481.000000</td>\n",
              "      <td id=\"T_75903_row2_col1\" class=\"data row2 col1\" >50714.210973</td>\n",
              "      <td id=\"T_75903_row2_col2\" class=\"data row2 col2\" >25117.340292</td>\n",
              "      <td id=\"T_75903_row2_col3\" class=\"data row2 col3\" >600.000000</td>\n",
              "      <td id=\"T_75903_row2_col4\" class=\"data row2 col4\" >36238.080000</td>\n",
              "      <td id=\"T_75903_row2_col5\" class=\"data row2 col5\" >44642.040000</td>\n",
              "      <td id=\"T_75903_row2_col6\" class=\"data row2 col6\" >58389.720000</td>\n",
              "      <td id=\"T_75903_row2_col7\" class=\"data row2 col7\" >553500.000000</td>\n",
              "    </tr>\n",
              "    <tr>\n",
              "      <th id=\"T_75903_level0_row3\" class=\"row_heading level0 row3\" >MONTHLY</th>\n",
              "      <td id=\"T_75903_row3_col0\" class=\"data row3 col0\" >149481.000000</td>\n",
              "      <td id=\"T_75903_row3_col1\" class=\"data row3 col1\" >4226.184248</td>\n",
              "      <td id=\"T_75903_row3_col2\" class=\"data row3 col2\" >2093.111691</td>\n",
              "      <td id=\"T_75903_row3_col3\" class=\"data row3 col3\" >50.000000</td>\n",
              "      <td id=\"T_75903_row3_col4\" class=\"data row3 col4\" >3019.840000</td>\n",
              "      <td id=\"T_75903_row3_col5\" class=\"data row3 col5\" >3720.170000</td>\n",
              "      <td id=\"T_75903_row3_col6\" class=\"data row3 col6\" >4865.810000</td>\n",
              "      <td id=\"T_75903_row3_col7\" class=\"data row3 col7\" >46125.000000</td>\n",
              "    </tr>\n",
              "    <tr>\n",
              "      <th id=\"T_75903_level0_row4\" class=\"row_heading level0 row4\" >AGENCY</th>\n",
              "      <td id=\"T_75903_row4_col0\" class=\"data row4 col0\" >149481.000000</td>\n",
              "      <td id=\"T_75903_row4_col1\" class=\"data row4 col1\" >545.736288</td>\n",
              "      <td id=\"T_75903_row4_col2\" class=\"data row4 col2\" >139.057691</td>\n",
              "      <td id=\"T_75903_row4_col3\" class=\"data row4 col3\" >101.000000</td>\n",
              "      <td id=\"T_75903_row4_col4\" class=\"data row4 col4\" >529.000000</td>\n",
              "      <td id=\"T_75903_row4_col5\" class=\"data row4 col5\" >530.000000</td>\n",
              "      <td id=\"T_75903_row4_col6\" class=\"data row4 col6\" >696.000000</td>\n",
              "      <td id=\"T_75903_row4_col7\" class=\"data row4 col7\" >930.000000</td>\n",
              "    </tr>\n",
              "    <tr>\n",
              "      <th id=\"T_75903_level0_row5\" class=\"row_heading level0 row5\" >HRLY RATE</th>\n",
              "      <td id=\"T_75903_row5_col0\" class=\"data row5 col0\" >149481.000000</td>\n",
              "      <td id=\"T_75903_row5_col1\" class=\"data row5 col1\" >0.346488</td>\n",
              "      <td id=\"T_75903_row5_col2\" class=\"data row5 col2\" >4.211485</td>\n",
              "      <td id=\"T_75903_row5_col3\" class=\"data row5 col3\" >0.000000</td>\n",
              "      <td id=\"T_75903_row5_col4\" class=\"data row5 col4\" >0.000000</td>\n",
              "      <td id=\"T_75903_row5_col5\" class=\"data row5 col5\" >0.000000</td>\n",
              "      <td id=\"T_75903_row5_col6\" class=\"data row5 col6\" >0.000000</td>\n",
              "      <td id=\"T_75903_row5_col7\" class=\"data row5 col7\" >117.788480</td>\n",
              "    </tr>\n",
              "    <tr>\n",
              "      <th id=\"T_75903_level0_row6\" class=\"row_heading level0 row6\" >HRS PER WK</th>\n",
              "      <td id=\"T_75903_row6_col0\" class=\"data row6 col0\" >149481.000000</td>\n",
              "      <td id=\"T_75903_row6_col1\" class=\"data row6 col1\" >39.714918</td>\n",
              "      <td id=\"T_75903_row6_col2\" class=\"data row6 col2\" >2.323855</td>\n",
              "      <td id=\"T_75903_row6_col3\" class=\"data row6 col3\" >1.000000</td>\n",
              "      <td id=\"T_75903_row6_col4\" class=\"data row6 col4\" >40.000000</td>\n",
              "      <td id=\"T_75903_row6_col5\" class=\"data row6 col5\" >40.000000</td>\n",
              "      <td id=\"T_75903_row6_col6\" class=\"data row6 col6\" >40.000000</td>\n",
              "      <td id=\"T_75903_row6_col7\" class=\"data row6 col7\" >70.000000</td>\n",
              "    </tr>\n",
              "    <tr>\n",
              "      <th id=\"T_75903_level0_row7\" class=\"row_heading level0 row7\" >multiple_full_time_jobs</th>\n",
              "      <td id=\"T_75903_row7_col0\" class=\"data row7 col0\" >14.000000</td>\n",
              "      <td id=\"T_75903_row7_col1\" class=\"data row7 col1\" >1.000000</td>\n",
              "      <td id=\"T_75903_row7_col2\" class=\"data row7 col2\" >0.000000</td>\n",
              "      <td id=\"T_75903_row7_col3\" class=\"data row7 col3\" >1.000000</td>\n",
              "      <td id=\"T_75903_row7_col4\" class=\"data row7 col4\" >1.000000</td>\n",
              "      <td id=\"T_75903_row7_col5\" class=\"data row7 col5\" >1.000000</td>\n",
              "      <td id=\"T_75903_row7_col6\" class=\"data row7 col6\" >1.000000</td>\n",
              "      <td id=\"T_75903_row7_col7\" class=\"data row7 col7\" >1.000000</td>\n",
              "    </tr>\n",
              "  </tbody>\n",
              "</table>\n"
            ],
            "text/plain": [
              "<pandas.io.formats.style.Styler at 0x15aaf1296d0>"
            ]
          },
          "execution_count": 14,
          "metadata": {},
          "output_type": "execute_result"
        }
      ],
      "source": [
        "# Statistical information\n",
        "\n",
        "data.describe().T.sort_values('std', ascending = False)\\\n",
        ".style.background_gradient(cmap='magma')\n"
      ]
    },
    {
      "cell_type": "markdown",
      "metadata": {
        "id": "h_9a4Qec2C5Z"
      },
      "source": [
        "#### Insights:\n",
        "- All the numerical features except summed_annual_salary and multiple_full_time_jobs have 1,49,481 records with no null values.\n",
        "- **summed_annual_salary** and **multiple_full_time_jobs** have large proportion of null values with non-null values of only around 16 and 14 respectively.\n",
        "- The standard deviation of **multiple_full_time_jobs** is 0. Hence this feature needs to be dropped.\n",
        "- The average value of **STATE NUMBER** is around 5,65,200 ranging from minimum of 1 to maximum of 1271604.\n",
        "- The **ANNUAL** has mean value of 50714 with a minimum value of 600 and maximum of 553500. The standard deviation is around 25000.\n",
        "- The **MONTHLY** feature has more relationship with the annual income. So it is proportionate to the feature \"ANNUAL\".\n",
        "- The feature **AGENCY** shows the average value of 545 with a minimum of 101 to a maximum of 930.\n",
        "- The average **HRLY RATE** is around 0.346 with a minimum of 0 and a maximum of 117.\n",
        "- The mean **HRS PER WK** is around 39.71. The minimum hour is 1 and the maximum is 70 per week."
      ]
    },
    {
      "cell_type": "code",
      "execution_count": null,
      "metadata": {
        "id": "Z8rfcMo32C5Z",
        "outputId": "6552b4a9-a4a7-4e60-cb0d-8ad33536a7c1",
        "colab": {
          "base_uri": "https://localhost:8080/",
          "height": 457
        }
      },
      "outputs": [
        {
          "output_type": "execute_result",
          "data": {
            "text/plain": [
              "<pandas.io.formats.style.Styler at 0x7e07449094e0>"
            ],
            "text/html": [
              "<style type=\"text/css\">\n",
              "</style>\n",
              "<table id=\"T_e0aff\" class=\"dataframe\">\n",
              "  <thead>\n",
              "    <tr>\n",
              "      <th class=\"blank level0\" >&nbsp;</th>\n",
              "      <th id=\"T_e0aff_level0_col0\" class=\"col_heading level0 col0\" >count</th>\n",
              "      <th id=\"T_e0aff_level0_col1\" class=\"col_heading level0 col1\" >unique</th>\n",
              "      <th id=\"T_e0aff_level0_col2\" class=\"col_heading level0 col2\" >top</th>\n",
              "      <th id=\"T_e0aff_level0_col3\" class=\"col_heading level0 col3\" >freq</th>\n",
              "    </tr>\n",
              "  </thead>\n",
              "  <tbody>\n",
              "    <tr>\n",
              "      <th id=\"T_e0aff_level0_row0\" class=\"row_heading level0 row0\" >AGENCY NAME</th>\n",
              "      <td id=\"T_e0aff_row0_col0\" class=\"data row0 col0\" >17549</td>\n",
              "      <td id=\"T_e0aff_row0_col1\" class=\"data row0 col1\" >57</td>\n",
              "      <td id=\"T_e0aff_row0_col2\" class=\"data row0 col2\" >TEXAS WORKFORCE COMMISSION                        </td>\n",
              "      <td id=\"T_e0aff_row0_col3\" class=\"data row0 col3\" >4653</td>\n",
              "    </tr>\n",
              "    <tr>\n",
              "      <th id=\"T_e0aff_level0_row1\" class=\"row_heading level0 row1\" >LAST NAME</th>\n",
              "      <td id=\"T_e0aff_row1_col0\" class=\"data row1 col0\" >17549</td>\n",
              "      <td id=\"T_e0aff_row1_col1\" class=\"data row1 col1\" >8043</td>\n",
              "      <td id=\"T_e0aff_row1_col2\" class=\"data row1 col2\" >SMITH                         </td>\n",
              "      <td id=\"T_e0aff_row1_col3\" class=\"data row1 col3\" >139</td>\n",
              "    </tr>\n",
              "    <tr>\n",
              "      <th id=\"T_e0aff_level0_row2\" class=\"row_heading level0 row2\" >FIRST NAME</th>\n",
              "      <td id=\"T_e0aff_row2_col0\" class=\"data row2 col0\" >17549</td>\n",
              "      <td id=\"T_e0aff_row2_col1\" class=\"data row2 col1\" >6254</td>\n",
              "      <td id=\"T_e0aff_row2_col2\" class=\"data row2 col2\" >MICHAEL                       </td>\n",
              "      <td id=\"T_e0aff_row2_col3\" class=\"data row2 col3\" >204</td>\n",
              "    </tr>\n",
              "    <tr>\n",
              "      <th id=\"T_e0aff_level0_row3\" class=\"row_heading level0 row3\" >MI</th>\n",
              "      <td id=\"T_e0aff_row3_col0\" class=\"data row3 col0\" >17549</td>\n",
              "      <td id=\"T_e0aff_row3_col1\" class=\"data row3 col1\" >27</td>\n",
              "      <td id=\"T_e0aff_row3_col2\" class=\"data row3 col2\" > </td>\n",
              "      <td id=\"T_e0aff_row3_col3\" class=\"data row3 col3\" >7254</td>\n",
              "    </tr>\n",
              "    <tr>\n",
              "      <th id=\"T_e0aff_level0_row4\" class=\"row_heading level0 row4\" >CLASS CODE</th>\n",
              "      <td id=\"T_e0aff_row4_col0\" class=\"data row4 col0\" >17549</td>\n",
              "      <td id=\"T_e0aff_row4_col1\" class=\"data row4 col1\" >801</td>\n",
              "      <td id=\"T_e0aff_row4_col2\" class=\"data row4 col2\" >5541    </td>\n",
              "      <td id=\"T_e0aff_row4_col3\" class=\"data row4 col3\" >474</td>\n",
              "    </tr>\n",
              "    <tr>\n",
              "      <th id=\"T_e0aff_level0_row5\" class=\"row_heading level0 row5\" >CLASS TITLE</th>\n",
              "      <td id=\"T_e0aff_row5_col0\" class=\"data row5 col0\" >17549</td>\n",
              "      <td id=\"T_e0aff_row5_col1\" class=\"data row5 col1\" >773</td>\n",
              "      <td id=\"T_e0aff_row5_col2\" class=\"data row5 col2\" >CHILD SUPPORT OFFCR II                            </td>\n",
              "      <td id=\"T_e0aff_row5_col3\" class=\"data row5 col3\" >474</td>\n",
              "    </tr>\n",
              "    <tr>\n",
              "      <th id=\"T_e0aff_level0_row6\" class=\"row_heading level0 row6\" >ETHNICITY</th>\n",
              "      <td id=\"T_e0aff_row6_col0\" class=\"data row6 col0\" >17549</td>\n",
              "      <td id=\"T_e0aff_row6_col1\" class=\"data row6 col1\" >6</td>\n",
              "      <td id=\"T_e0aff_row6_col2\" class=\"data row6 col2\" >WHITE          </td>\n",
              "      <td id=\"T_e0aff_row6_col3\" class=\"data row6 col3\" >8464</td>\n",
              "    </tr>\n",
              "    <tr>\n",
              "      <th id=\"T_e0aff_level0_row7\" class=\"row_heading level0 row7\" >GENDER</th>\n",
              "      <td id=\"T_e0aff_row7_col0\" class=\"data row7 col0\" >17549</td>\n",
              "      <td id=\"T_e0aff_row7_col1\" class=\"data row7 col1\" >2</td>\n",
              "      <td id=\"T_e0aff_row7_col2\" class=\"data row7 col2\" >FEMALE         </td>\n",
              "      <td id=\"T_e0aff_row7_col3\" class=\"data row7 col3\" >10775</td>\n",
              "    </tr>\n",
              "    <tr>\n",
              "      <th id=\"T_e0aff_level0_row8\" class=\"row_heading level0 row8\" >STATUS</th>\n",
              "      <td id=\"T_e0aff_row8_col0\" class=\"data row8 col0\" >17549</td>\n",
              "      <td id=\"T_e0aff_row8_col1\" class=\"data row8 col1\" >11</td>\n",
              "      <td id=\"T_e0aff_row8_col2\" class=\"data row8 col2\" >CRF - CLASSIFIED REGULAR FULL-TIME      </td>\n",
              "      <td id=\"T_e0aff_row8_col3\" class=\"data row8 col3\" >15457</td>\n",
              "    </tr>\n",
              "    <tr>\n",
              "      <th id=\"T_e0aff_level0_row9\" class=\"row_heading level0 row9\" >EMPLOY DATE</th>\n",
              "      <td id=\"T_e0aff_row9_col0\" class=\"data row9 col0\" >17549</td>\n",
              "      <td id=\"T_e0aff_row9_col1\" class=\"data row9 col1\" >2847</td>\n",
              "      <td id=\"T_e0aff_row9_col2\" class=\"data row9 col2\" >09/01/16</td>\n",
              "      <td id=\"T_e0aff_row9_col3\" class=\"data row9 col3\" >1150</td>\n",
              "    </tr>\n",
              "    <tr>\n",
              "      <th id=\"T_e0aff_level0_row10\" class=\"row_heading level0 row10\" >duplicated</th>\n",
              "      <td id=\"T_e0aff_row10_col0\" class=\"data row10 col0\" >143</td>\n",
              "      <td id=\"T_e0aff_row10_col1\" class=\"data row10 col1\" >1</td>\n",
              "      <td id=\"T_e0aff_row10_col2\" class=\"data row10 col2\" >True</td>\n",
              "      <td id=\"T_e0aff_row10_col3\" class=\"data row10 col3\" >143</td>\n",
              "    </tr>\n",
              "    <tr>\n",
              "      <th id=\"T_e0aff_level0_row11\" class=\"row_heading level0 row11\" >combined_multiple_jobs</th>\n",
              "      <td id=\"T_e0aff_row11_col0\" class=\"data row11 col0\" >97</td>\n",
              "      <td id=\"T_e0aff_row11_col1\" class=\"data row11 col1\" >1</td>\n",
              "      <td id=\"T_e0aff_row11_col2\" class=\"data row11 col2\" >True</td>\n",
              "      <td id=\"T_e0aff_row11_col3\" class=\"data row11 col3\" >97</td>\n",
              "    </tr>\n",
              "    <tr>\n",
              "      <th id=\"T_e0aff_level0_row12\" class=\"row_heading level0 row12\" >hide_from_search</th>\n",
              "      <td id=\"T_e0aff_row12_col0\" class=\"data row12 col0\" >16</td>\n",
              "      <td id=\"T_e0aff_row12_col1\" class=\"data row12 col1\" >1</td>\n",
              "      <td id=\"T_e0aff_row12_col2\" class=\"data row12 col2\" >True</td>\n",
              "      <td id=\"T_e0aff_row12_col3\" class=\"data row12 col3\" >16</td>\n",
              "    </tr>\n",
              "  </tbody>\n",
              "</table>\n"
            ]
          },
          "metadata": {},
          "execution_count": 3
        }
      ],
      "source": [
        "data.describe(include='O').T.style.background_gradient(cmap='magma')"
      ]
    },
    {
      "cell_type": "markdown",
      "metadata": {
        "id": "mVBPd9lT2C5Z"
      },
      "source": [
        "#### Insights:\n",
        "- The categorical/ discrete features except duplicated, combined_multiple_jobs and hide_from_search have 1,49,481 records with no null values.\n",
        "- **duplicated**, **combined_multiple_jobs** and **hide_from_search** have large proportion of null values with non-null values of only around 143, 97 and 16 respectively in boolean type.\n",
        "- The **AGENCY NAME** has a total of 113 unique agencies with the top being \"HEALTH AND HUMAN SERVICES COMMISSION\" with around 36000 occurences. Hence, around 24% of employees work under this agency.\n",
        "- The **LAST NAME**, **FIRST NAME** and **MI** have string values and the feature **MI** has around 38,408 missing values(empty strings) for the middle initial.\n",
        "- The **CLASS TITLE** feature has around 1,422 unique class titles in the dataset and the most common class title is \"CORREC OFFICER IV\" with 9,267 occurrences.\n",
        "- There are 6 unique ethnicity categories witht the majority **ethnicity** being \"**WHITE**\" with 67,142 occurrences( around 44%).\n",
        "- Two unique **gender** categories with \"**FEMALE**\" dominating around 57%.\n",
        "- There are 11 unique **status** categories in the dataset. The most common status is \"**CRF - CLASSIFIED REGULAR FULL-TIME**\" with 142,502 occurrences which consitute around **95%** of status categories.\n",
        "- There are 6,295 unique employment dates and the **date \"09/01/17\"** appears most frequently with 12,359 occurrences.\n"
      ]
    },
    {
      "cell_type": "code",
      "execution_count": null,
      "metadata": {
        "id": "aD8s7-x22C5Z",
        "outputId": "0b53f507-d63e-4ccf-c124-9e765df711f7"
      },
      "outputs": [
        {
          "data": {
            "text/html": [
              "<style type=\"text/css\">\n",
              "#T_dfb98_row0_col0, #T_dfb98_row0_col1, #T_dfb98_row0_col2, #T_dfb98_row0_col3, #T_dfb98_row0_col4, #T_dfb98_row0_col5, #T_dfb98_row0_col6, #T_dfb98_row0_col7, #T_dfb98_row0_col8, #T_dfb98_row0_col9, #T_dfb98_row0_col10, #T_dfb98_row0_col11, #T_dfb98_row0_col12, #T_dfb98_row0_col13, #T_dfb98_row0_col14, #T_dfb98_row0_col15, #T_dfb98_row0_col16, #T_dfb98_row0_col17, #T_dfb98_row0_col18, #T_dfb98_row0_col19, #T_dfb98_row0_col20 {\n",
              "  background-color: #000004;\n",
              "  color: #f1f1f1;\n",
              "}\n",
              "</style>\n",
              "<table id=\"T_dfb98\">\n",
              "  <thead>\n",
              "    <tr>\n",
              "      <th class=\"blank level0\" >&nbsp;</th>\n",
              "      <th id=\"T_dfb98_level0_col0\" class=\"col_heading level0 col0\" >AGENCY</th>\n",
              "      <th id=\"T_dfb98_level0_col1\" class=\"col_heading level0 col1\" >AGENCY NAME</th>\n",
              "      <th id=\"T_dfb98_level0_col2\" class=\"col_heading level0 col2\" >LAST NAME</th>\n",
              "      <th id=\"T_dfb98_level0_col3\" class=\"col_heading level0 col3\" >FIRST NAME</th>\n",
              "      <th id=\"T_dfb98_level0_col4\" class=\"col_heading level0 col4\" >MI</th>\n",
              "      <th id=\"T_dfb98_level0_col5\" class=\"col_heading level0 col5\" >CLASS CODE</th>\n",
              "      <th id=\"T_dfb98_level0_col6\" class=\"col_heading level0 col6\" >CLASS TITLE</th>\n",
              "      <th id=\"T_dfb98_level0_col7\" class=\"col_heading level0 col7\" >ETHNICITY</th>\n",
              "      <th id=\"T_dfb98_level0_col8\" class=\"col_heading level0 col8\" >GENDER</th>\n",
              "      <th id=\"T_dfb98_level0_col9\" class=\"col_heading level0 col9\" >STATUS</th>\n",
              "      <th id=\"T_dfb98_level0_col10\" class=\"col_heading level0 col10\" >EMPLOY DATE</th>\n",
              "      <th id=\"T_dfb98_level0_col11\" class=\"col_heading level0 col11\" >HRLY RATE</th>\n",
              "      <th id=\"T_dfb98_level0_col12\" class=\"col_heading level0 col12\" >HRS PER WK</th>\n",
              "      <th id=\"T_dfb98_level0_col13\" class=\"col_heading level0 col13\" >MONTHLY</th>\n",
              "      <th id=\"T_dfb98_level0_col14\" class=\"col_heading level0 col14\" >ANNUAL</th>\n",
              "      <th id=\"T_dfb98_level0_col15\" class=\"col_heading level0 col15\" >STATE NUMBER</th>\n",
              "      <th id=\"T_dfb98_level0_col16\" class=\"col_heading level0 col16\" >duplicated</th>\n",
              "      <th id=\"T_dfb98_level0_col17\" class=\"col_heading level0 col17\" >multiple_full_time_jobs</th>\n",
              "      <th id=\"T_dfb98_level0_col18\" class=\"col_heading level0 col18\" >combined_multiple_jobs</th>\n",
              "      <th id=\"T_dfb98_level0_col19\" class=\"col_heading level0 col19\" >summed_annual_salary</th>\n",
              "      <th id=\"T_dfb98_level0_col20\" class=\"col_heading level0 col20\" >hide_from_search</th>\n",
              "    </tr>\n",
              "  </thead>\n",
              "  <tbody>\n",
              "    <tr>\n",
              "      <th id=\"T_dfb98_level0_row0\" class=\"row_heading level0 row0\" >0</th>\n",
              "      <td id=\"T_dfb98_row0_col0\" class=\"data row0 col0\" >113</td>\n",
              "      <td id=\"T_dfb98_row0_col1\" class=\"data row0 col1\" >113</td>\n",
              "      <td id=\"T_dfb98_row0_col2\" class=\"data row0 col2\" >38675</td>\n",
              "      <td id=\"T_dfb98_row0_col3\" class=\"data row0 col3\" >23559</td>\n",
              "      <td id=\"T_dfb98_row0_col4\" class=\"data row0 col4\" >27</td>\n",
              "      <td id=\"T_dfb98_row0_col5\" class=\"data row0 col5\" >1481</td>\n",
              "      <td id=\"T_dfb98_row0_col6\" class=\"data row0 col6\" >1422</td>\n",
              "      <td id=\"T_dfb98_row0_col7\" class=\"data row0 col7\" >6</td>\n",
              "      <td id=\"T_dfb98_row0_col8\" class=\"data row0 col8\" >2</td>\n",
              "      <td id=\"T_dfb98_row0_col9\" class=\"data row0 col9\" >11</td>\n",
              "      <td id=\"T_dfb98_row0_col10\" class=\"data row0 col10\" >6295</td>\n",
              "      <td id=\"T_dfb98_row0_col11\" class=\"data row0 col11\" >206</td>\n",
              "      <td id=\"T_dfb98_row0_col12\" class=\"data row0 col12\" >58</td>\n",
              "      <td id=\"T_dfb98_row0_col13\" class=\"data row0 col13\" >40552</td>\n",
              "      <td id=\"T_dfb98_row0_col14\" class=\"data row0 col14\" >40554</td>\n",
              "      <td id=\"T_dfb98_row0_col15\" class=\"data row0 col15\" >149465</td>\n",
              "      <td id=\"T_dfb98_row0_col16\" class=\"data row0 col16\" >1</td>\n",
              "      <td id=\"T_dfb98_row0_col17\" class=\"data row0 col17\" >1</td>\n",
              "      <td id=\"T_dfb98_row0_col18\" class=\"data row0 col18\" >1</td>\n",
              "      <td id=\"T_dfb98_row0_col19\" class=\"data row0 col19\" >15</td>\n",
              "      <td id=\"T_dfb98_row0_col20\" class=\"data row0 col20\" >1</td>\n",
              "    </tr>\n",
              "  </tbody>\n",
              "</table>\n"
            ],
            "text/plain": [
              "<pandas.io.formats.style.Styler at 0x2527c44a590>"
            ]
          },
          "execution_count": 5,
          "metadata": {},
          "output_type": "execute_result"
        }
      ],
      "source": [
        "# unique values\n",
        "data.nunique().to_frame().T.style.background_gradient(cmap='magma')"
      ]
    },
    {
      "cell_type": "markdown",
      "metadata": {
        "id": "hyQX5bmx2C5Z"
      },
      "source": [
        "#### Insights:\n",
        "- Based on the count of unique values in all the features, it is clear such as follows:\n",
        "<ul type= 'square'>\n",
        "<li>CONTINUOUS FEATURES:\n",
        "<dd>- STATE NUMBER, summed_annual_salary, ANNUAL, MONTHLY, AGENCY, HRLY RATE, HRS PER WEEK, multiple_full_time_jobs.</dd></li>\n",
        "<li>CATEGORICAL/ DISCRETE FEATURES:\n",
        "<dd>- AGENCY NAME, LAST NAME, FIRST NAME, MI, CLASS CODE, CLASS TITLE, ETHNICITY, GENDER, STATUS, EMPLOY DATE, duplicated, combined_multiple_jobs, hide_from_search.</dd></li></ul>\n",
        "\n",
        "##### SUB-CATEGORIES :\n",
        "<dt>discrete\n",
        "<dd>- CLASS CODE, EMPLOY DATE</dd></dt>\n",
        "<dt>nominal\n",
        "<dd>- AGENCY NAME, LAST NAME, FIRST NAME, MI, CLASS TITLE, ETHNICITY, GENDER, STATUS</dd></dt>\n",
        "<dt>binary\n",
        "<dd>duplicated, combined_multiple_jobs, hide_from_search</dd></dt>"
      ]
    },
    {
      "cell_type": "code",
      "execution_count": null,
      "metadata": {
        "id": "RMct0Oea2C5Z",
        "outputId": "8a6f2c8b-22ba-48c3-c34b-762b0c19ce97"
      },
      "outputs": [
        {
          "data": {
            "text/plain": [
              "AGENCY NAME\n",
              "HEALTH AND HUMAN SERVICES COMMISSION                  0.245295\n",
              "TEXAS DEPARTMENT OF CRIMINAL JUSTICE                  0.240338\n",
              "TEXAS DEPARTMENT OF TRANSPORTATION                    0.087630\n",
              "DEPARTMENT OF FAMILY AND PROTECTIVE SERVICES          0.084211\n",
              "DEPARTMENT OF PUBLIC SAFETY                           0.067547\n",
              "TEXAS WORKFORCE COMMISSION                            0.031128\n",
              "OFFICE OF THE ATTORNEY GENERAL                        0.027703\n",
              "DEPARTMENT OF STATE HEALTH SERVICES                   0.020932\n",
              "PARKS AND WILDLIFE DEPARTMENT                         0.020471\n",
              "COMPTROLLER OF PUBLIC ACCOUNTS                        0.018384\n",
              "TEXAS COMMISSION ON ENVIRONMENTAL QUALITY             0.018016\n",
              "TEXAS JUVENILE JUSTICE DEPARTMENT                     0.013748\n",
              "TEXAS DEPARTMENT OF INSURANCE                         0.008550\n",
              "COMPTROLLER OF PUBLIC ACCOUNTS, JUDICIARY SECTION     0.006911\n",
              "TEXAS EDUCATION AGENCY                                0.006469\n",
              "RAILROAD COMMISSION                                   0.005646\n",
              "TEACHER RETIREMENT SYSTEM                             0.005459\n",
              "HOUSE OF REPRESENTATIVES                              0.005225\n",
              "TEXAS DEPARTMENT OF MOTOR VEHICLES                    0.004984\n",
              "GENERAL LAND OFFICE AND VETERAN'S LAND BOARD          0.004576\n",
              "ALCOHOLIC BEVERAGE COMMISSION                         0.004295\n",
              "DEPARTMENT OF AGRICULTURE                             0.004114\n",
              "SCHOOL FOR THE DEAF                                   0.003773\n",
              "TEXAS MILITARY DEPARTMENT                             0.003606\n",
              "DEPARTMENT OF LICENSING AND REGULATION                0.003452\n",
              "SENATE                                                0.003372\n",
              "SCHOOL FOR THE BLIND AND VISUALLY IMPAIRED            0.003305\n",
              "TEXAS VETERANS COMMISSION                             0.002776\n",
              "EMPLOYEES RETIREMENT SYSTEM                           0.002462\n",
              "TEXAS LEGISLATIVE COUNCIL                             0.002455\n",
              "TEXAS FACILITIES COMMISSION                           0.002321\n",
              "WATER DEVELOPMENT BOARD                               0.002275\n",
              "DEPARTMENT OF HOUSING AND COMMUNITY AFFAIRS           0.001960\n",
              "TEXAS LOTTERY COMMISSION                              0.001927\n",
              "TEXAS HISTORICAL COMMISSION                           0.001860\n",
              "OFFICE OF COURT ADMINISTRATION                        0.001779\n",
              "TEXAS HIGHER EDUCATION COORDINATING BOARD             0.001606\n",
              "STATE PRESERVATION BOARD                              0.001478\n",
              "TEXAS ANIMAL HEALTH COMMISSION                        0.001398\n",
              "TEXAS MEDICAL BOARD                                   0.001318\n",
              "DEPARTMENT OF INFORMATION RESOURCES                   0.001298\n",
              "STATE AUDITOR'S OFFICE                                0.001231\n",
              "SECRETARY OF STATE                                    0.001211\n",
              "DEPARTMENT OF BANKING                                 0.001204\n",
              "PUBLIC UTILITY COMMISSION OF TEXAS                    0.001177\n",
              "LIBRARY AND ARCHIVES COMMISSION                       0.001097\n",
              "OFFICE OF INJURED EMPLOYEE COUNSEL                    0.001024\n",
              "OFFICE OF THE GOVERNOR                                0.000923\n",
              "REAL ESTATE COMMISSION                                0.000917\n",
              "GOVERNOR'S OFFICE, TRUSTEE PROGRAMS                   0.000910\n",
              "OFFICE OF RISK MANAGEMENT                             0.000756\n",
              "LEGISLATIVE BUDGET BOARD                              0.000736\n",
              "BOARD OF NURSE EXAMINERS                              0.000736\n",
              "STATE OFFICE OF ADMINISTRATIVE HEARINGS               0.000722\n",
              "BOARD OF PHARMACY                                     0.000689\n",
              "SECURITIES BOARD                                      0.000582\n",
              "SUPREME COURT OF TEXAS                                0.000535\n",
              "CONSUMER CREDIT COMMISSION                            0.000502\n",
              "TREASURY SAFEKEEPING TRUST COMPANY                    0.000475\n",
              "SOIL AND WATER CONSERVATION BOARD                     0.000475\n",
              "CT CRIM APPEALS                                       0.000455\n",
              "FIFTH COURT OF APPEALS DISTRICT                       0.000401\n",
              "BOARD OF DENTAL EXAMINERS                             0.000375\n",
              "SAVINGS AND LOAN DEPARTMENT                           0.000341\n",
              "COMMISSION ON LAW ENFORCEMENT OFFICER STANDARDS AN    0.000341\n",
              "FOURTEENTH COURT OF APPEALS DISTRICT                  0.000268\n",
              "FIRST COURT OF APPEALS DISTRICT                       0.000248\n",
              "SECOND COURT OF APPEALS DISTRICT                      0.000241\n",
              "BOARD OF PUBLIC ACCOUNTANCY                           0.000241\n",
              "TEXAS RACING COMMISSION                               0.000234\n",
              "FOURTH COURT OF APPEALS DISTRICT                      0.000221\n",
              "CANCER PREVENTION AND RESEARCH INSTITUTE OF TEXAS     0.000221\n",
              "BOARD OF PLUMBING EXAMINERS                           0.000214\n",
              "THIRD COURT OF APPEALS DISTRICT                       0.000214\n",
              "THIRTEENTH COURT OF APPEALS DISTRICT                  0.000201\n",
              "SUNSET ADVISORY COMMISSION                            0.000194\n",
              "CREDIT UNION DEPARTMENT                               0.000194\n",
              "TEXAS BOARD OF PROFESSIONAL ENGINEERS                 0.000187\n",
              "TEXAS ETHICS COMMISSION                               0.000181\n",
              "TEXAS COMMISSION ON FIRE PROTECTION                   0.000174\n",
              "LEGISLATIVE REFERENCE LIBRARY                         0.000154\n",
              "COMMISSION ON JAIL STANDARDS                          0.000147\n",
              "OFFICE OF CAPITAL AND FORENSIC WRITS                  0.000140\n",
              "NINTH COURT OF APPEALS DISTRICT                       0.000140\n",
              "COMMISSION ON STATE EMERGENCY COMMUNICATION           0.000134\n",
              "EXECUTIVE COUNCIL OF PHYSICAL THERAPY & OCCUPATION    0.000127\n",
              "BOARD OF VETERINARY MEDICAL EXAMINERS                 0.000127\n",
              "BOARD OF ARCHITECTURAL EXAMINERS                      0.000127\n",
              "SEVENTH COURT OF APPEALS DISTRICT                     0.000120\n",
              "ELEVENTH COURT OF APPEALS DISTRICT                    0.000114\n",
              "EIGHTH COURT OF APPEALS DISTRICT                      0.000107\n",
              "SIXTH COURT OF APPEALS DISTRICT                       0.000100\n",
              "TWELFTH COURT OF APPEALS DISTRICT                     0.000100\n",
              "BOARD OF EXAMINERS OF PSYCHOLOGISTS                   0.000100\n",
              "TENTH COURT OF APPEALS DISTRICT                       0.000100\n",
              "TEXAS PUBLIC FINANCE AUTHORITY                        0.000094\n",
              "TEXAS COMMISSION ON THE ARTS                          0.000094\n",
              "STATE LAW LIBRARY                                     0.000087\n",
              "STATE COMMISSION ON JUDICIAL CONDUCT                  0.000080\n",
              "STATE PENSION REVIEW BOARD                            0.000074\n",
              "OFFICE OF PUBLIC UTILITY COUNSEL                      0.000074\n",
              "OFFICE OF PUBLIC INSURANCE COUNSEL                    0.000067\n",
              "TEXAS BOND REVIEW BOARD                               0.000067\n",
              "BOARD OF CHIROPRACTIC EXAMINERS                       0.000067\n",
              "TEXAS FUNERAL SERVICE COMMISSION                      0.000060\n",
              "TEXAS EMERGENCY SERVICES RETIREMENT SYSTEM            0.000054\n",
              "OPTOMETRY BOARD                                       0.000054\n",
              "COMPTROLLER OF PUBLIC ACCOUNTS, STATE ENERGY CONSE    0.000054\n",
              "HEALTH PROFESSIONS COUNCIL                            0.000047\n",
              "BOARD OF PROFESSIONAL GEOSCIENTISTS                   0.000033\n",
              "OFFICE OF STATE PROSECUTING ATTORNEY                  0.000027\n",
              "BOARD OF PROFESSIONAL LAND SURVEYING                  0.000027\n",
              "TEXAS BEHAVIORAL HEALTH EXECUTIVE COUNCIL             0.000007\n",
              "Name: proportion, dtype: float64"
            ]
          },
          "execution_count": 34,
          "metadata": {},
          "output_type": "execute_result"
        }
      ],
      "source": [
        "pd.set_option('display.max_rows', None)\n",
        "data['AGENCY NAME'].value_counts(normalize= True)"
      ]
    },
    {
      "cell_type": "code",
      "execution_count": null,
      "metadata": {
        "id": "5NR-gUHC2C5Z",
        "outputId": "c2a5e7e6-a3e6-434a-9d6b-fa6a3af64ce3"
      },
      "outputs": [
        {
          "data": {
            "text/plain": [
              "ETHNICITY\n",
              "WHITE              0.449167\n",
              "HISPANIC           0.271506\n",
              "BLACK              0.239850\n",
              "ASIAN              0.028552\n",
              "OTHER              0.006161\n",
              "AM INDIAN          0.004763\n",
              "Name: proportion, dtype: float64"
            ]
          },
          "execution_count": 30,
          "metadata": {},
          "output_type": "execute_result"
        }
      ],
      "source": [
        "data.ETHNICITY.value_counts(normalize= True)"
      ]
    },
    {
      "cell_type": "code",
      "execution_count": null,
      "metadata": {
        "id": "WvTfPKh12C5Z",
        "outputId": "602ace57-9968-408a-cac2-d4073d49092b"
      },
      "outputs": [
        {
          "data": {
            "text/plain": [
              "GENDER\n",
              "FEMALE             0.570828\n",
              "MALE               0.429172\n",
              "Name: proportion, dtype: float64"
            ]
          },
          "execution_count": 31,
          "metadata": {},
          "output_type": "execute_result"
        }
      ],
      "source": [
        "data.GENDER.value_counts(normalize= True)"
      ]
    },
    {
      "cell_type": "code",
      "execution_count": null,
      "metadata": {
        "id": "iu2D6q6_2C5Z",
        "outputId": "21a481a2-f387-4737-bd6c-76846395ebeb"
      },
      "outputs": [
        {
          "data": {
            "text/plain": [
              "STATUS\n",
              "CRF - CLASSIFIED REGULAR FULL-TIME          0.953312\n",
              "URF - UNCLASSIFIED REGULAR FULL-TIME        0.015808\n",
              "CRP - CLASSIFIED REGULAR PART-TIME          0.010242\n",
              "CTF - CLASSIFIED TEMPORARY FULL-TIME        0.007332\n",
              "URP - UNCLASSIFIED REGULAR PART-TIME        0.006355\n",
              "ERF - EXEMPT REGULAR FULL-TIME              0.006175\n",
              "CTP - CLASSIFIED TEMPORARY PART-TIME        0.000542\n",
              "UTP - UNCLASSIFIED TEMPORARY PART-TIME      0.000140\n",
              "UTF - UNCLASSIFIED TEMPORARY FULL-TIME      0.000080\n",
              "ERP - EXEMPT REGULAR PART-TIME              0.000007\n",
              "CTP - CLASSIFIED TEMPORARY FULL-TIME        0.000007\n",
              "Name: proportion, dtype: float64"
            ]
          },
          "execution_count": 32,
          "metadata": {},
          "output_type": "execute_result"
        }
      ],
      "source": [
        "data.STATUS.value_counts(normalize= True)"
      ]
    },
    {
      "cell_type": "markdown",
      "metadata": {
        "id": "9eWr3k8s2C5a"
      },
      "source": [
        "##### Insights:\n",
        "- Around **44%** ethnicity belongs to **white people** followed by hispanic people.\n",
        "- **Female** gender dominates and occupies around **57%** and male gender is around 42%.\n",
        "- In status feature, **'CLASSIFIED REGULAR FULL-TIME'** occupies the dominant position of around **95%**."
      ]
    },
    {
      "cell_type": "markdown",
      "metadata": {
        "id": "q8c6wFiu2C5a"
      },
      "source": [
        "### **EXPLORATORY DATA ANALYSIS:**"
      ]
    },
    {
      "cell_type": "code",
      "execution_count": null,
      "metadata": {
        "id": "evhXH_nT2C5a",
        "outputId": "3863f3f5-9678-4ce7-a84a-44e8cc76bb1a"
      },
      "outputs": [
        {
          "data": {
            "text/plain": [
              "Index(['AGENCY', 'AGENCY NAME', 'LAST NAME', 'FIRST NAME', 'MI', 'CLASS CODE',\n",
              "       'CLASS TITLE', 'ETHNICITY', 'GENDER', 'STATUS', 'EMPLOY DATE',\n",
              "       'HRLY RATE', 'HRS PER WK', 'MONTHLY', 'ANNUAL', 'STATE NUMBER',\n",
              "       'duplicated', 'multiple_full_time_jobs', 'combined_multiple_jobs',\n",
              "       'summed_annual_salary', 'hide_from_search'],\n",
              "      dtype='object')"
            ]
          },
          "execution_count": 35,
          "metadata": {},
          "output_type": "execute_result"
        }
      ],
      "source": [
        "# fetching all the columns\n",
        "data.columns"
      ]
    },
    {
      "cell_type": "code",
      "execution_count": 5,
      "metadata": {
        "id": "-z5ayBXZ2C5a"
      },
      "outputs": [],
      "source": [
        "# renaming the columns as per convenience\n",
        "data.rename({'AGENCY':'agency', 'AGENCY NAME': 'agency_name', 'LAST NAME': 'last_name', 'FIRST NAME': 'first_name', 'MI': 'mi', 'CLASS CODE': 'class_code',\n",
        "       'CLASS TITLE': 'class_title', 'ETHNICITY': 'ethnicity', 'GENDER': 'gender', 'STATUS': 'status', 'EMPLOY DATE': 'employ_date',\n",
        "       'HRLY RATE': 'hrly_rate', 'HRS PER WK':'hrs_per_wk', 'MONTHLY': 'monthly', 'ANNUAL': 'annual', 'STATE NUMBER':'state_number'}, axis= 1, inplace= True)"
      ]
    },
    {
      "cell_type": "code",
      "execution_count": 6,
      "metadata": {
        "id": "_-IZ6hl62C5a",
        "outputId": "04846fb9-464b-4982-b4c6-e3f3f4fe5d99",
        "colab": {
          "base_uri": "https://localhost:8080/"
        }
      },
      "outputs": [
        {
          "output_type": "execute_result",
          "data": {
            "text/plain": [
              "Index(['agency', 'agency_name', 'last_name', 'first_name', 'mi', 'class_code',\n",
              "       'class_title', 'ethnicity', 'gender', 'status', 'employ_date',\n",
              "       'hrly_rate', 'hrs_per_wk', 'monthly', 'annual', 'state_number',\n",
              "       'duplicated', 'multiple_full_time_jobs', 'combined_multiple_jobs',\n",
              "       'summed_annual_salary', 'hide_from_search'],\n",
              "      dtype='object')"
            ]
          },
          "metadata": {},
          "execution_count": 6
        }
      ],
      "source": [
        "data.columns"
      ]
    },
    {
      "cell_type": "markdown",
      "metadata": {
        "id": "avvhGd4U2C5a"
      },
      "source": [
        "#### Distribution of Categorical/ discrete and continuous features"
      ]
    },
    {
      "cell_type": "code",
      "execution_count": 7,
      "metadata": {
        "id": "FEpRux852C5b",
        "outputId": "aaf6e1fa-3493-4889-8248-2529c1605232",
        "colab": {
          "base_uri": "https://localhost:8080/"
        }
      },
      "outputs": [
        {
          "output_type": "stream",
          "name": "stdout",
          "text": [
            "Target variable: annual\n",
            "Total no of independent features (except target): 20\n",
            "No of categorical features: 13\n",
            "No of continuous features: 7\n"
          ]
        }
      ],
      "source": [
        "target= 'annual'\n",
        "independent_features= [column for column in data.drop(target, axis=1)]\n",
        "\n",
        "# As per the basic checks analysis,\n",
        "categorical_features= ['agency_name', 'last_name', 'first_name', 'mi', 'class_code', 'class_title', 'ethnicity', 'gender', 'status', 'employ_date', 'duplicated', 'combined_multiple_jobs', 'hide_from_search']\n",
        "continuous_features= ['state_number', 'summed_annual_salary', 'monthly', 'agency', 'hrly_rate', 'hrs_per_wk', 'multiple_full_time_jobs']\n",
        "\n",
        "print(f'Target variable: {target}\\nTotal no of independent features (except target): {len(independent_features)}')\n",
        "print(f'No of categorical features: {len(categorical_features)}')\n",
        "print(f'No of continuous features: {len(continuous_features)}')"
      ]
    },
    {
      "cell_type": "code",
      "execution_count": null,
      "metadata": {
        "id": "jhmJy9oI2C5b",
        "outputId": "8c3d8a28-b6ed-4ca1-d130-db8d334da848",
        "colab": {
          "base_uri": "https://localhost:8080/",
          "height": 428
        }
      },
      "outputs": [
        {
          "output_type": "display_data",
          "data": {
            "text/plain": [
              "<Figure size 640x480 with 1 Axes>"
            ],
            "image/png": "[encoded data removed]"
          },
          "metadata": {}
        }
      ],
      "source": [
        "# pie chart showing the distribution\n",
        "plt.pie([len(continuous_features), len(categorical_features)],\n",
        "        labels= ['continuous features', 'categorical features'],\n",
        "        colors= ['salmon','darkturquoise'],\n",
        "        textprops= {'fontsize': 10},\n",
        "        wedgeprops= {'edgecolor': 'white'},\n",
        "        autopct= '%.1f%%')\n",
        "\n",
        "plt.title('DISTRIBUTION OF CONTINUOUS AND CATEGORICAL FEATURES', fontsize= 13)\n",
        "plt.show()"
      ]
    },
    {
      "cell_type": "markdown",
      "metadata": {
        "id": "yXOCc0DA2C5b"
      },
      "source": [
        "#### Target variable:"
      ]
    },
    {
      "cell_type": "code",
      "execution_count": null,
      "metadata": {
        "id": "yFcN65AU2C5b",
        "outputId": "d33bac6f-7b51-4ed9-dfad-06bfcf11896c",
        "colab": {
          "base_uri": "https://localhost:8080/",
          "height": 489
        }
      },
      "outputs": [
        {
          "output_type": "display_data",
          "data": {
            "text/plain": [
              "<Figure size 800x500 with 1 Axes>"
            ],
            "image/png": "[encoded data removed]"
          },
          "metadata": {}
        }
      ],
      "source": [
        "# Target variable 'annual' is a continuous feature\n",
        "\n",
        "plt.figure(figsize=(8,5))\n",
        "sns.set_style('darkgrid')\n",
        "\n",
        "# hist plot\n",
        "sns.histplot(x= data['annual'], color='mediumpurple')\\\n",
        ".set_title('Distribution of \"annual\" (target variable)', fontsize= 15)\n",
        "plt.show()"
      ]
    },
    {
      "cell_type": "markdown",
      "metadata": {
        "id": "7R4F39dl2C5b"
      },
      "source": [
        "##### Insights:\n",
        "- The target variable is showing postively skewed distribution with a lot of outliers being visible in the plot."
      ]
    },
    {
      "cell_type": "markdown",
      "metadata": {
        "id": "9cftA69j2C5b"
      },
      "source": [
        "#### UNIVARIATE ANALYSIS"
      ]
    },
    {
      "cell_type": "markdown",
      "metadata": {
        "id": "aiqyrISo2C5c"
      },
      "source": [
        "#### Analysis of categorical/ discrete features:"
      ]
    },
    {
      "cell_type": "markdown",
      "source": [
        "**SUB-CATEGORIES :**\n",
        "<dt>discrete\n",
        "<dd>- CLASS CODE, EMPLOY DATE</dd></dt>\n",
        "<dt>nominal\n",
        "<dd>- AGENCY NAME, LAST NAME, FIRST NAME, MI, CLASS TITLE, ETHNICITY, GENDER, STATUS</dd></dt>\n",
        "<dt>binary\n",
        "<dd>- duplicated, combined_multiple_jobs, hide_from_search</dd></dt>"
      ],
      "metadata": {
        "id": "jq_DK6H4-Kt6"
      }
    },
    {
      "cell_type": "code",
      "source": [
        "categorical_features"
      ],
      "metadata": {
        "id": "XPohu0m_-UYc",
        "outputId": "54b87261-14ab-4d80-93ec-09a0527b351d",
        "colab": {
          "base_uri": "https://localhost:8080/"
        }
      },
      "execution_count": null,
      "outputs": [
        {
          "output_type": "execute_result",
          "data": {
            "text/plain": [
              "['agency_name',\n",
              " 'last_name',\n",
              " 'first_name',\n",
              " 'mi',\n",
              " 'class_code',\n",
              " 'class_title',\n",
              " 'ethnicity',\n",
              " 'gender',\n",
              " 'status',\n",
              " 'employ_date',\n",
              " 'duplicated',\n",
              " 'combined_multiple_jobs',\n",
              " 'hide_from_search']"
            ]
          },
          "metadata": {},
          "execution_count": 18
        }
      ]
    },
    {
      "cell_type": "code",
      "source": [
        "# Among the categorical features, certain sub-categories of features are taken for checking the count such as follows:\n",
        "# ethnicity, gender, status, duplicated, combined_multiple_jobs, hide_from_search"
      ],
      "metadata": {
        "id": "A5Wp-0iT-cSF"
      },
      "execution_count": null,
      "outputs": []
    },
    {
      "cell_type": "code",
      "source": [
        "cat_data= data[['ethnicity', 'gender', 'status', 'duplicated', 'combined_multiple_jobs', 'hide_from_search']]"
      ],
      "metadata": {
        "id": "a_2CJ1wn_TEA"
      },
      "execution_count": 17,
      "outputs": []
    },
    {
      "cell_type": "code",
      "execution_count": 18,
      "metadata": {
        "id": "b2fwidDW2C5c",
        "outputId": "9ea20cac-8433-4aad-a9aa-15dc40449ff8",
        "colab": {
          "base_uri": "https://localhost:8080/",
          "height": 1000
        }
      },
      "outputs": [
        {
          "output_type": "display_data",
          "data": {
            "text/plain": [
              "<Figure size 1200x1200 with 6 Axes>"
            ],
            "image/png": "[encoded data removed]"
          },
          "metadata": {}
        }
      ],
      "source": [
        "plt.figure(figsize= (12, 12))\n",
        "\n",
        "sns.set_style('darkgrid')\n",
        "plotnumber= 1\n",
        "\n",
        "\n",
        "for column in cat_data:\n",
        "  if plotnumber <=6:\n",
        "    ax= plt.subplot(3, 2, plotnumber)\n",
        "    sns.countplot(data= cat_data, x= column, palette= 'cool').set_title(f'Count of {column}', fontsize= 15)\n",
        "    plt.xlabel(column, fontsize= 15)\n",
        "    plt.ylabel('count', fontsize= 15)\n",
        "\n",
        "  plotnumber+=1\n",
        "plt.tight_layout(h_pad=2, w_pad=2)\n",
        "\n",
        "plt.show()"
      ]
    },
    {
      "cell_type": "markdown",
      "source": [
        "##### Insights:\n",
        "-  As per **ethnicity** column, **White** has the most frequency of around 44% of employees followed by **hispanic** ethnicity.The category **am indian** has the lowest frequency.\n",
        "\n",
        "- In **gender** feature, **female** employees constitute the highest frequency of 57% and male count is around 42%.\n",
        "\n",
        "- According to the job status, amost 95% of employees work in the type of **CRF - CLASSIFIED REGULAR FULL-TIME** job status and remaining 5% are sparsely distributed by the rest of the 10 status categories.\n",
        "\n",
        "- Features such as **duplicated**, **combined_multiple_jobs** and **hide_from_search** have only limited records and that too of constant features in natue(same value).\n",
        "\n",
        "- There are other categorical features such as **'agency_name', 'last_name','first_name', 'mi', 'class_code', 'class_title'** and **'employ_date'** which"
      ],
      "metadata": {
        "id": "_6qI4AtF-bjn"
      }
    },
    {
      "cell_type": "markdown",
      "source": [
        "#### Analysis of continuous features:"
      ],
      "metadata": {
        "id": "53MvIIjq-Shf"
      }
    },
    {
      "cell_type": "code",
      "execution_count": 13,
      "metadata": {
        "id": "FokpMtHj2C5c",
        "colab": {
          "base_uri": "https://localhost:8080/"
        },
        "outputId": "ee50c4b9-9bfb-4613-cd28-8d2bfe0ae42a"
      },
      "outputs": [
        {
          "output_type": "execute_result",
          "data": {
            "text/plain": [
              "['state_number',\n",
              " 'summed_annual_salary',\n",
              " 'monthly',\n",
              " 'agency',\n",
              " 'hrly_rate',\n",
              " 'hrs_per_wk',\n",
              " 'multiple_full_time_jobs']"
            ]
          },
          "metadata": {},
          "execution_count": 13
        }
      ],
      "source": [
        "continuous_features"
      ]
    },
    {
      "cell_type": "code",
      "source": [
        "cont_data= data[['state_number','summed_annual_salary', 'monthly', 'agency', 'hrly_rate', 'hrs_per_wk', 'multiple_full_time_jobs']]"
      ],
      "metadata": {
        "id": "knJuutxt59aK"
      },
      "execution_count": 24,
      "outputs": []
    },
    {
      "cell_type": "code",
      "source": [
        "plt.figure(figsize= (12, 12))\n",
        "\n",
        "sns.set_style('darkgrid')\n",
        "plotnumber= 1\n",
        "\n",
        "\n",
        "for column in cont_data:\n",
        "  if plotnumber <8:\n",
        "    ax= plt.subplot(4, 2, plotnumber)\n",
        "    plt.hist(cont_data[column], color= 'purple', ec= 'white')\n",
        "    plt.xlabel(column, fontsize= 12)\n",
        "    plt.ylabel('count', fontsize= 12)\n",
        "    plt.title(f'Distribution of {column}', fontsize= 15)\n",
        "  plotnumber+=1\n",
        "plt.tight_layout(h_pad=2, w_pad=2)\n",
        "plt.show()"
      ],
      "metadata": {
        "colab": {
          "base_uri": "https://localhost:8080/",
          "height": 1000
        },
        "id": "Zy2veNRh5SMA",
        "outputId": "572eb4df-8a3e-44e0-989a-d3f0cbf6cc3d"
      },
      "execution_count": 29,
      "outputs": [
        {
          "output_type": "display_data",
          "data": {
            "text/plain": [
              "<Figure size 1200x1200 with 7 Axes>"
            ],
            "image/png": "[encoded data removed]"
          },
          "metadata": {}
        }
      ]
    },
    {
      "cell_type": "markdown",
      "source": [
        "##### Insights:\n",
        "-"
      ],
      "metadata": {
        "id": "4_4OIF0s-Fln"
      }
    },
    {
      "cell_type": "code",
      "source": [],
      "metadata": {
        "id": "7HmeChdj-EIS"
      },
      "execution_count": null,
      "outputs": []
    },
    {
      "cell_type": "code",
      "source": [],
      "metadata": {
        "id": "JRLEbfS9680B"
      },
      "execution_count": null,
      "outputs": []
    }
  ],
  "metadata": {
    "kernelspec": {
      "display_name": "base",
      "language": "python",
      "name": "python3"
    },
    "language_info": {
      "codemirror_mode": {
        "name": "ipython",
        "version": 3
      },
      "file_extension": ".py",
      "mimetype": "text/x-python",
      "name": "python",
      "nbconvert_exporter": "python",
      "pygments_lexer": "ipython3",
      "version": "3.11.5"
    },
    "colab": {
      "provenance": []
    }
  },
  "nbformat": 4,
  "nbformat_minor": 0
}